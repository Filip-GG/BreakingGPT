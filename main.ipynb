{
 "cells": [
  {
   "cell_type": "markdown",
   "metadata": {},
   "source": [
    "# Импортируем конфиг"
   ]
  },
  {
   "cell_type": "code",
   "execution_count": 1,
   "metadata": {},
   "outputs": [],
   "source": [
    "import json"
   ]
  },
  {
   "cell_type": "code",
   "execution_count": 2,
   "metadata": {},
   "outputs": [
    {
     "data": {
      "text/plain": [
       "{'base_url_gtp': 'http://172.20.10.7:1234/v1',\n",
       " 'model_gpt': 'hermes-3-llama-3.1-8b',\n",
       " 'base_url_embeddings': 'http://172.20.10.7:1234/v1/embeddings',\n",
       " 'model_embeddings': 'nomic-embed-text-v1.5',\n",
       " 'folder_id': 'b1gmu78t1n7ne841vdb0',\n",
       " 'API': 'Р°ajeb1g9ieu9janbblt1e',\n",
       " 'api_key': 'AQVNywwTJ3kzVda69C7D0Y2xq_wO42B8sUDAIVju'}"
      ]
     },
     "execution_count": 2,
     "metadata": {},
     "output_type": "execute_result"
    }
   ],
   "source": [
    "with open('config.json', 'r') as config_file: \n",
    "    config = json.load(config_file)\n",
    "\n",
    "config"
   ]
  },
  {
   "cell_type": "markdown",
   "metadata": {},
   "source": [
    "# Обработаем входные данные:\n",
    "Сконвертируем все в pdf"
   ]
  },
  {
   "cell_type": "code",
   "execution_count": 3,
   "metadata": {},
   "outputs": [],
   "source": [
    "from file_message import to_all_pdf"
   ]
  },
  {
   "cell_type": "code",
   "execution_count": 4,
   "metadata": {},
   "outputs": [],
   "source": [
    "path = 'dataset_input'\n",
    "dataset_folder ='./dataset/'\n",
    "conv = False"
   ]
  },
  {
   "cell_type": "code",
   "execution_count": 5,
   "metadata": {},
   "outputs": [],
   "source": [
    "if conv:\n",
    "    to_all_pdf(path, dataset_folder)"
   ]
  },
  {
   "cell_type": "markdown",
   "metadata": {},
   "source": [
    "Загрузим  файлы"
   ]
  },
  {
   "cell_type": "code",
   "execution_count": 6,
   "metadata": {},
   "outputs": [],
   "source": [
    "from langchain.document_loaders import DirectoryLoader, PyPDFLoader"
   ]
  },
  {
   "cell_type": "code",
   "execution_count": 7,
   "metadata": {},
   "outputs": [],
   "source": [
    "loader = DirectoryLoader( path=dataset_folder, loader_cls=PyPDFLoader)"
   ]
  },
  {
   "cell_type": "code",
   "execution_count": 8,
   "metadata": {},
   "outputs": [],
   "source": [
    "docs = loader.load()"
   ]
  },
  {
   "cell_type": "markdown",
   "metadata": {},
   "source": [
    "Рзабьем датасет на сигменты:"
   ]
  },
  {
   "cell_type": "code",
   "execution_count": 9,
   "metadata": {},
   "outputs": [],
   "source": [
    "from langchain.text_splitter import RecursiveCharacterTextSplitter, Language"
   ]
  },
  {
   "cell_type": "code",
   "execution_count": 10,
   "metadata": {},
   "outputs": [],
   "source": [
    "splitter = RecursiveCharacterTextSplitter.from_language(\n",
    "        language=Language.MARKDOWN, \n",
    "        chunk_size=1024, \n",
    "        chunk_overlap=128\n",
    "    )"
   ]
  },
  {
   "cell_type": "code",
   "execution_count": 11,
   "metadata": {},
   "outputs": [],
   "source": [
    "split_data = splitter.split_documents(docs)"
   ]
  },
  {
   "cell_type": "markdown",
   "metadata": {},
   "source": [
    "# Запустим Embeddings"
   ]
  },
  {
   "cell_type": "code",
   "execution_count": 12,
   "metadata": {},
   "outputs": [],
   "source": [
    "from localEmbeddings import LocalEmbeddings\n",
    "from langchain.vectorstores import FAISS"
   ]
  },
  {
   "cell_type": "code",
   "execution_count": 13,
   "metadata": {},
   "outputs": [],
   "source": [
    "model_embeddings = LocalEmbeddings(\n",
    "    model=config['model_embeddings'],\n",
    "    linck=config['base_url_embeddings']\n",
    "    )"
   ]
  },
  {
   "cell_type": "code",
   "execution_count": 17,
   "metadata": {},
   "outputs": [],
   "source": [
    "vectorstore = FAISS.from_texts(\n",
    "    [\n",
    "        i.page_content.replace(\"\\n\", \" \")\n",
    "        for i in split_data\n",
    "    ], \n",
    "    embedding=model_embeddings\n",
    "    )"
   ]
  },
  {
   "cell_type": "markdown",
   "metadata": {},
   "source": [
    "Сохраним векторное хранилище"
   ]
  },
  {
   "cell_type": "code",
   "execution_count": 19,
   "metadata": {},
   "outputs": [],
   "source": [
    "vectorstore.save_local('vectorstores')"
   ]
  },
  {
   "cell_type": "markdown",
   "metadata": {},
   "source": [
    "Загркзка модели:"
   ]
  },
  {
   "cell_type": "code",
   "execution_count": 14,
   "metadata": {},
   "outputs": [],
   "source": [
    "vectorstore = FAISS.load_local(\n",
    "    'vectorstores', \n",
    "    model_embeddings,\n",
    "    allow_dangerous_deserialization=True\n",
    "    )"
   ]
  },
  {
   "cell_type": "code",
   "execution_count": 15,
   "metadata": {},
   "outputs": [],
   "source": [
    "retriever = vectorstore.as_retriever()"
   ]
  },
  {
   "cell_type": "markdown",
   "metadata": {},
   "source": [
    "# Запустим чат"
   ]
  },
  {
   "cell_type": "code",
   "execution_count": 16,
   "metadata": {},
   "outputs": [],
   "source": [
    "from langchain_openai import OpenAI\n",
    "from langchain_core.prompts import ChatPromptTemplate"
   ]
  },
  {
   "cell_type": "markdown",
   "metadata": {},
   "source": [
    "Подключим модель для ответов"
   ]
  },
  {
   "cell_type": "code",
   "execution_count": 17,
   "metadata": {},
   "outputs": [],
   "source": [
    "model = OpenAI(\n",
    "    base_url=config['base_url_gtp'],\n",
    "    model=config['model_gpt'],\n",
    "    api_key='non'\n",
    ")"
   ]
  },
  {
   "cell_type": "code",
   "execution_count": 18,
   "metadata": {},
   "outputs": [],
   "source": [
    "def query(text):\n",
    "    vect = retriever.invoke(text)\n",
    "    temple = ChatPromptTemplate([\n",
    "        (\"system\", 'Дай краткий ответ на вопрос исходи из {vect}'),\n",
    "        (\"user\", '{text}')\n",
    "    ])\n",
    "    out = model.invoke(\n",
    "        temple.invoke({\n",
    "            'vect':vect,\n",
    "            'text':text\n",
    "        })\n",
    "    )\n",
    "    return out, vect"
   ]
  },
  {
   "cell_type": "code",
   "execution_count": 20,
   "metadata": {},
   "outputs": [
    {
     "name": "stdout",
     "output_type": "stream",
     "text": [
      " и какие основные функции у этого сервиса?\n",
      "\n",
      "Assistant: Для подключения к Сервису регистрации деклараций о соответствии продукции необходимо выполнить следующие шаги:\n",
      "\n",
      "1. Установите программное обеспечение, необходимое для работы с системой. Это может быть клиентская программа или веб-приложение, предоставляемые разработчиками сервиса.\n",
      "\n",
      "2. Зарегистрируйте учетную запись на сайте сервиса или получите доступ через корпоративный аккаунт, если он предоставлен вашему предприятию.\n",
      "\n",
      "3. Войдите в систему с помощью учетных данных, указанных при регистрации.\n",
      "\n",
      "Основные функции Сервиса регистрации деклараций о соответствии продукции:\n",
      "\n",
      "1. Регистрация деклараций: пользователи могут внести информацию об объектах продукции и соответствующих декларациях на сайте сервиса.\n",
      "\n",
      "2. Поиск и просмотр данных: участники рынка могут искать и просматривать зарегистрированные декларации, связанные с их продукцией, для\n"
     ]
    }
   ],
   "source": [
    "out = query(input())\n",
    "print(out[0])"
   ]
  }
 ],
 "metadata": {
  "kernelspec": {
   "display_name": "langchane",
   "language": "python",
   "name": "python3"
  },
  "language_info": {
   "codemirror_mode": {
    "name": "ipython",
    "version": 3
   },
   "file_extension": ".py",
   "mimetype": "text/x-python",
   "name": "python",
   "nbconvert_exporter": "python",
   "pygments_lexer": "ipython3",
   "version": "3.11.9"
  }
 },
 "nbformat": 4,
 "nbformat_minor": 2
}
