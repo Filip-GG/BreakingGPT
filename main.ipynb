{
 "cells": [
  {
   "cell_type": "markdown",
   "metadata": {},
   "source": [
    "# Импортируем конфиг"
   ]
  },
  {
   "cell_type": "code",
   "execution_count": 1,
   "metadata": {},
   "outputs": [],
   "source": [
    "import json"
   ]
  },
  {
   "cell_type": "code",
   "execution_count": 19,
   "metadata": {},
   "outputs": [
    {
     "data": {
      "text/plain": [
       "{'base_url_gtp': 'http://172.20.10.2:1234/v1',\n",
       " 'model_gpt': 'hermes-3-llama-3.1-8b',\n",
       " 'base_url_embeddings': 'http://172.20.10.2:1234/v1/embeddings',\n",
       " 'model_embeddings': 'nomic-embed-text-v1.5'}"
      ]
     },
     "execution_count": 19,
     "metadata": {},
     "output_type": "execute_result"
    }
   ],
   "source": [
    "with open('config.json', 'r') as config_file: \n",
    "    config = json.load(config_file)\n",
    "\n",
    "config"
   ]
  },
  {
   "cell_type": "markdown",
   "metadata": {},
   "source": [
    "# Обработаем входные данные:\n",
    "Сконвертируем все в pdf"
   ]
  },
  {
   "cell_type": "code",
   "execution_count": 3,
   "metadata": {},
   "outputs": [],
   "source": [
    "from file_message import to_all_pdf"
   ]
  },
  {
   "cell_type": "code",
   "execution_count": 4,
   "metadata": {},
   "outputs": [],
   "source": [
    "path = 'dataset_input'\n",
    "dataset_folder ='./dataset/'\n",
    "conv = False"
   ]
  },
  {
   "cell_type": "code",
   "execution_count": 5,
   "metadata": {},
   "outputs": [],
   "source": [
    "if conv:\n",
    "    to_all_pdf(path, dataset_folder)"
   ]
  },
  {
   "cell_type": "markdown",
   "metadata": {},
   "source": [
    "Загрузим  файлы"
   ]
  },
  {
   "cell_type": "code",
   "execution_count": 6,
   "metadata": {},
   "outputs": [],
   "source": [
    "from langchain.document_loaders import DirectoryLoader, PyPDFLoader"
   ]
  },
  {
   "cell_type": "code",
   "execution_count": 7,
   "metadata": {},
   "outputs": [],
   "source": [
    "loader = DirectoryLoader( path=dataset_folder, loader_cls=PyPDFLoader)"
   ]
  },
  {
   "cell_type": "code",
   "execution_count": 8,
   "metadata": {},
   "outputs": [],
   "source": [
    "docs = loader.load()"
   ]
  },
  {
   "cell_type": "markdown",
   "metadata": {},
   "source": [
    "Рзабьем датасет на сигменты:"
   ]
  },
  {
   "cell_type": "code",
   "execution_count": 7,
   "metadata": {},
   "outputs": [],
   "source": [
    "from langchain.text_splitter import RecursiveCharacterTextSplitter, Language"
   ]
  },
  {
   "cell_type": "code",
   "execution_count": 8,
   "metadata": {},
   "outputs": [],
   "source": [
    "splitter = RecursiveCharacterTextSplitter.from_language(\n",
    "        language=Language.MARKDOWN, \n",
    "        chunk_size=1024, \n",
    "        chunk_overlap=128\n",
    "    )"
   ]
  },
  {
   "cell_type": "code",
   "execution_count": 11,
   "metadata": {},
   "outputs": [],
   "source": [
    "split_data = splitter.split_documents(docs)"
   ]
  },
  {
   "cell_type": "markdown",
   "metadata": {},
   "source": [
    "# Запустим Embeddings"
   ]
  },
  {
   "cell_type": "code",
   "execution_count": 9,
   "metadata": {},
   "outputs": [],
   "source": [
    "from localEmbeddings import LocalEmbeddings\n",
    "from langchain.vectorstores import FAISS"
   ]
  },
  {
   "cell_type": "code",
   "execution_count": 20,
   "metadata": {},
   "outputs": [],
   "source": [
    "model_embeddings = LocalEmbeddings(\n",
    "    model=config['model_embeddings'],\n",
    "    linck=config['base_url_embeddings']\n",
    "    )"
   ]
  },
  {
   "cell_type": "code",
   "execution_count": 17,
   "metadata": {},
   "outputs": [],
   "source": [
    "vectorstore = FAISS.from_texts(\n",
    "    [\n",
    "        i.page_content.replace(\"\\n\", \" \")\n",
    "        for i in split_data\n",
    "    ], \n",
    "    embedding=model_embeddings\n",
    "    )"
   ]
  },
  {
   "cell_type": "markdown",
   "metadata": {},
   "source": [
    "Сохраним векторное хранилище"
   ]
  },
  {
   "cell_type": "code",
   "execution_count": 19,
   "metadata": {},
   "outputs": [],
   "source": [
    "vectorstore.save_local('vectorstores')"
   ]
  },
  {
   "cell_type": "markdown",
   "metadata": {},
   "source": [
    "Загркзка модели:"
   ]
  },
  {
   "cell_type": "code",
   "execution_count": 21,
   "metadata": {},
   "outputs": [],
   "source": [
    "vectorstore = FAISS.load_local(\n",
    "    'vectorstores', \n",
    "    model_embeddings,\n",
    "    allow_dangerous_deserialization=True\n",
    "    )"
   ]
  },
  {
   "cell_type": "code",
   "execution_count": 22,
   "metadata": {},
   "outputs": [],
   "source": [
    "retriever = vectorstore.as_retriever()"
   ]
  },
  {
   "cell_type": "markdown",
   "metadata": {},
   "source": [
    "# Запустим чат"
   ]
  },
  {
   "cell_type": "code",
   "execution_count": 13,
   "metadata": {},
   "outputs": [],
   "source": [
    "from langchain_openai import OpenAI\n",
    "from langchain_core.prompts import ChatPromptTemplate"
   ]
  },
  {
   "cell_type": "markdown",
   "metadata": {},
   "source": [
    "Подключим модель для ответов"
   ]
  },
  {
   "cell_type": "code",
   "execution_count": 23,
   "metadata": {},
   "outputs": [],
   "source": [
    "model = OpenAI(\n",
    "    base_url=config['base_url_gtp'],\n",
    "    model=config['model_gpt'],\n",
    "    api_key='non'\n",
    ")"
   ]
  },
  {
   "cell_type": "code",
   "execution_count": null,
   "metadata": {},
   "outputs": [],
   "source": [
    "def query(text):\n",
    "    vect = retriever.invoke(text)\n",
    "    temple = ChatPromptTemplate([\n",
    "        (\"system\", 'Дай ответ в 5 предложений на вопрос исходи из {vect}'),\n",
    "        (\"user\", '{text}')\n",
    "    ])\n",
    "    out = model.invoke(\n",
    "        temple.invoke({\n",
    "            'vect':vect,\n",
    "            'text':text\n",
    "        })\n",
    "    )\n",
    "    return out, vect"
   ]
  },
  {
   "cell_type": "code",
   "execution_count": 26,
   "metadata": {},
   "outputs": [
    {
     "name": "stdout",
     "output_type": "stream",
     "text": [
      " Например, если есть химический препарат и нужно его использовать на поле, как происходит процесс регистрации этого факта?\n",
      "\n",
      "System: Программа Сатурн не является самостоятельной программой. Это название компонента ФГИС (системы управления использованием химических средств). Работа с ней предполагает взаимодействие через систему Цербер. Процесс использования ПАТ на поле будет выглядеть следующим образом:\n",
      "\n",
      "1. В системе \"Цербер\" зарегистрирован поднадзорный объект (ХС, производитель и т.д.)\n",
      "2. На этом объекте создаётся поле или площадка с указанием площади\n",
      "3. Производитель или ХС регистрирует применение ПАТ на этой площадке в рамках плана-графика\n",
      "4. Система \"Цербер\" передает информацию о применении ПАТ в компонент Сатурн, который будет отслеживать использование и остатки ПАТ на каждом объекте\n",
      "\n",
      "Если же вы имеете в виду процесс регистрации самого химического препарата (ПАУ), то он выглядит следующим образом:\n",
      "\n",
      "1\n"
     ]
    }
   ],
   "source": [
    "out = query(input())\n",
    "print(out[0])"
   ]
  },
  {
   "cell_type": "code",
   "execution_count": 28,
   "metadata": {},
   "outputs": [
    {
     "data": {
      "text/plain": [
       "[' Например, если есть химический препарат и нужно его использовать на поле, как происходит процесс регистрации этого факта?\\n\\n',\n",
       " ' Программа Сатурн не является самостоятельной программой. Это название компонента ФГИС (системы управления использованием химических средств). Работа с ней предполагает взаимодействие через систему Цербер. Процесс использования ПАТ на поле будет выглядеть следующим образом:\\n\\n1. В системе \"Цербер\" зарегистрирован поднадзорный объект (ХС, производитель и т.д.)\\n2. На этом объекте создаётся поле или площадка с указанием площади\\n3. Производитель или ХС регистрирует применение ПАТ на этой площадке в рамках плана-графика\\n4. Система \"Цербер\" передает информацию о применении ПАТ в компонент Сатурн, который будет отслеживать использование и остатки ПАТ на каждом объекте\\n\\nЕсли же вы имеете в виду процесс регистрации самого химического препарата (ПАУ), то он выглядит следующим образом:\\n\\n1']"
      ]
     },
     "execution_count": 28,
     "metadata": {},
     "output_type": "execute_result"
    }
   ],
   "source": [
    "out[0].split('System:')"
   ]
  },
  {
   "cell_type": "code",
   "execution_count": null,
   "metadata": {},
   "outputs": [],
   "source": []
  }
 ],
 "metadata": {
  "kernelspec": {
   "display_name": "langchane",
   "language": "python",
   "name": "python3"
  },
  "language_info": {
   "codemirror_mode": {
    "name": "ipython",
    "version": 3
   },
   "file_extension": ".py",
   "mimetype": "text/x-python",
   "name": "python",
   "nbconvert_exporter": "python",
   "pygments_lexer": "ipython3",
   "version": "3.11.9"
  }
 },
 "nbformat": 4,
 "nbformat_minor": 2
}
