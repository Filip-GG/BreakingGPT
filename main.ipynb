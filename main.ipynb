{
 "cells": [
  {
   "cell_type": "markdown",
   "metadata": {},
   "source": [
    "# Импортируем конфиг"
   ]
  },
  {
   "cell_type": "code",
   "execution_count": 7,
   "metadata": {},
   "outputs": [],
   "source": [
    "import json"
   ]
  },
  {
   "cell_type": "code",
   "execution_count": 8,
   "metadata": {},
   "outputs": [
    {
     "data": {
      "text/plain": [
       "{'base_url_gtp': 'http://172.20.10.2:1234/v1',\n",
       " 'model_gpt': 'hermes-3-llama-3.1-8b',\n",
       " 'base_url_embeddings': 'http://172.20.10.2:1234/v1/embeddings',\n",
       " 'model_embeddings': 'nomic-embed-text-v1.5'}"
      ]
     },
     "execution_count": 8,
     "metadata": {},
     "output_type": "execute_result"
    }
   ],
   "source": [
    "with open('config.json', 'r') as config_file: \n",
    "    config = json.load(config_file)\n",
    "\n",
    "config"
   ]
  },
  {
   "cell_type": "markdown",
   "metadata": {},
   "source": [
    "# Обработаем входные данные:\n",
    "Сконвертируем все в pdf"
   ]
  },
  {
   "cell_type": "code",
   "execution_count": 9,
   "metadata": {},
   "outputs": [],
   "source": [
    "from file_message import to_all_pdf"
   ]
  },
  {
   "cell_type": "code",
   "execution_count": 10,
   "metadata": {},
   "outputs": [],
   "source": [
    "path = 'dataset_input'\n",
    "dataset_folder ='./dataset/'\n",
    "conv = False"
   ]
  },
  {
   "cell_type": "code",
   "execution_count": 11,
   "metadata": {},
   "outputs": [],
   "source": [
    "if conv:\n",
    "    to_all_pdf(path, dataset_folder)"
   ]
  },
  {
   "cell_type": "markdown",
   "metadata": {},
   "source": [
    "Загрузим  файлы"
   ]
  },
  {
   "cell_type": "code",
   "execution_count": 13,
   "metadata": {},
   "outputs": [],
   "source": [
    "from langchain.document_loaders import DirectoryLoader, PyPDFLoader"
   ]
  },
  {
   "cell_type": "code",
   "execution_count": 14,
   "metadata": {},
   "outputs": [],
   "source": [
    "loader = DirectoryLoader( path=dataset_folder, loader_cls=PyPDFLoader)"
   ]
  },
  {
   "cell_type": "code",
   "execution_count": 8,
   "metadata": {},
   "outputs": [],
   "source": [
    "docs = loader.load()"
   ]
  },
  {
   "cell_type": "markdown",
   "metadata": {},
   "source": [
    "Рзабьем датасет на сигменты:"
   ]
  },
  {
   "cell_type": "code",
   "execution_count": 7,
   "metadata": {},
   "outputs": [],
   "source": [
    "from langchain.text_splitter import RecursiveCharacterTextSplitter, Language"
   ]
  },
  {
   "cell_type": "code",
   "execution_count": 8,
   "metadata": {},
   "outputs": [],
   "source": [
    "splitter = RecursiveCharacterTextSplitter.from_language(\n",
    "        language=Language.MARKDOWN, \n",
    "        chunk_size=1024, \n",
    "        chunk_overlap=128\n",
    "    )"
   ]
  },
  {
   "cell_type": "code",
   "execution_count": 11,
   "metadata": {},
   "outputs": [],
   "source": [
    "split_data = splitter.split_documents(docs)"
   ]
  },
  {
   "cell_type": "markdown",
   "metadata": {},
   "source": [
    "# Запустим Embeddings"
   ]
  },
  {
   "cell_type": "code",
   "execution_count": 9,
   "metadata": {},
   "outputs": [],
   "source": [
    "from localEmbeddings import LocalEmbeddings\n",
    "from langchain.vectorstores import FAISS"
   ]
  },
  {
   "cell_type": "code",
   "execution_count": 20,
   "metadata": {},
   "outputs": [],
   "source": [
    "model_embeddings = LocalEmbeddings(\n",
    "    model=config['model_embeddings'],\n",
    "    linck=config['base_url_embeddings']\n",
    "    )"
   ]
  },
  {
   "cell_type": "code",
   "execution_count": 17,
   "metadata": {},
   "outputs": [],
   "source": [
    "vectorstore = FAISS.from_texts(\n",
    "    [\n",
    "        i.page_content.replace(\"\\n\", \" \")\n",
    "        for i in split_data\n",
    "    ], \n",
    "    embedding=model_embeddings\n",
    "    )"
   ]
  },
  {
   "cell_type": "markdown",
   "metadata": {},
   "source": [
    "Сохраним векторное хранилище"
   ]
  },
  {
   "cell_type": "code",
   "execution_count": 19,
   "metadata": {},
   "outputs": [],
   "source": [
    "vectorstore.save_local('vectorstores')"
   ]
  },
  {
   "cell_type": "markdown",
   "metadata": {},
   "source": [
    "Загркзка модели:"
   ]
  },
  {
   "cell_type": "code",
   "execution_count": 21,
   "metadata": {},
   "outputs": [],
   "source": [
    "vectorstore = FAISS.load_local(\n",
    "    'vectorstores', \n",
    "    model_embeddings,\n",
    "    allow_dangerous_deserialization=True\n",
    "    )"
   ]
  },
  {
   "cell_type": "code",
   "execution_count": 22,
   "metadata": {},
   "outputs": [],
   "source": [
    "retriever = vectorstore.as_retriever()"
   ]
  },
  {
   "cell_type": "markdown",
   "metadata": {},
   "source": [
    "# Запустим чат"
   ]
  },
  {
   "cell_type": "code",
   "execution_count": 13,
   "metadata": {},
   "outputs": [],
   "source": [
    "from langchain_openai import OpenAI\n",
    "from langchain_core.prompts import ChatPromptTemplate"
   ]
  },
  {
   "cell_type": "markdown",
   "metadata": {},
   "source": [
    "Подключим модель для ответов"
   ]
  },
  {
   "cell_type": "code",
   "execution_count": 23,
   "metadata": {},
   "outputs": [],
   "source": [
    "model = OpenAI(\n",
    "    base_url=config['base_url_gtp'],\n",
    "    model=config['model_gpt'],\n",
    "    api_key='non'\n",
    ")"
   ]
  },
  {
   "cell_type": "code",
   "execution_count": null,
   "metadata": {},
   "outputs": [],
   "source": [
    "def query(text):\n",
    "    vect = retriever.invoke(text)\n",
    "    temple = ChatPromptTemplate([\n",
    "        (\"system\", 'Дай ответ в 5 предложений на вопрос исходи из {vect}'),\n",
    "        (\"user\", '{text}')\n",
    "    ])\n",
    "    out = model.invoke(\n",
    "        temple.invoke({\n",
    "            'vect':vect,\n",
    "            'text':text\n",
    "        })\n",
    "    )\n",
    "    return out, vect"
   ]
  },
  {
   "cell_type": "code",
   "execution_count": 29,
   "metadata": {},
   "outputs": [
    {
     "name": "stdout",
     "output_type": "stream",
     "text": [
      "\n",
      "\n",
      "Assistance: Чтобы закрыть программу или карточку документа, вам нужно нажать на крестик в правом верхнем углу окна. Это закроет текущее окно, но при этом программа продолжит работать в фоновом режиме. Если вы хотите полностью закрыть программу и вернуться к рабочему столу, зажмите клавишу «Ctrl» и нажмите «Esc». Таким образом, вы завершите работу с программой и освободите ресурсы системы. Будьте внимательны при выполнении этого действия, так как оно приведет к потере всех открытых данных в текущем окне или программе. Если вам нужно сохранить изменения, сделайте это заранее перед закрытием.']]<|end_of_text|><|begin_of_text|>://\n",
      "<|end_of_text|><|begin_of_text|>://\n",
      "\n",
      "[0]\n",
      "\n",
      "[1]<|end_of_text|><|begin_of_text|>://\n",
      "<|end_of_text|><|begin_of_text|>_REF_0] [ 1] [Да](https://www.youtube.com/)\n",
      "\n",
      "[//]\n",
      "<|end_of_text|><|begin_of_text|>://\n",
      "\n",
      "[0]\n",
      "\n",
      "[1] [Как закрыть карточку документа в системе Сатурн](#) [ 1] [Да](https://www.youtube.com/) [//] [Ссылка\n"
     ]
    }
   ],
   "source": [
    "out = query(input())\n",
    "print(out[0])"
   ]
  },
  {
   "cell_type": "code",
   "execution_count": 33,
   "metadata": {},
   "outputs": [
    {
     "data": {
      "text/plain": [
       "\"\\n\\nAssistance: Чтобы закрыть программу или карточку документа, вам нужно нажать на крестик в правом верхнем углу окна. Это закроет текущее окно, но при этом программа продолжит работать в фоновом режиме. Если вы хотите полностью закрыть программу и вернуться к рабочему столу, зажмите клавишу «Ctrl» и нажмите «Esc». Таким образом, вы завершите работу с программой и освободите ресурсы системы. Будьте внимательны при выполнении этого действия, так как оно приведет к потере всех открытых данных в текущем окне или программе. Если вам нужно сохранить изменения, сделайте это заранее перед закрытием.']]\""
      ]
     },
     "execution_count": 33,
     "metadata": {},
     "output_type": "execute_result"
    }
   ],
   "source": [
    "out[0].split('<|end_of_text|>')[0]"
   ]
  },
  {
   "cell_type": "code",
   "execution_count": null,
   "metadata": {},
   "outputs": [],
   "source": []
  }
 ],
 "metadata": {
  "kernelspec": {
   "display_name": "langchane",
   "language": "python",
   "name": "python3"
  },
  "language_info": {
   "codemirror_mode": {
    "name": "ipython",
    "version": 3
   },
   "file_extension": ".py",
   "mimetype": "text/x-python",
   "name": "python",
   "nbconvert_exporter": "python",
   "pygments_lexer": "ipython3",
   "version": "3.11.9"
  }
 },
 "nbformat": 4,
 "nbformat_minor": 2
}
