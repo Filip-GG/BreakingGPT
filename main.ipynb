{
 "cells": [
  {
   "cell_type": "code",
   "execution_count": 1,
   "metadata": {},
   "outputs": [
    {
     "name": "stdout",
     "output_type": "stream",
     "text": [
      "Defaulting to user installation because normal site-packages is not writeable\n",
      "Requirement already satisfied: unstructured in c:\\users\\filic\\appdata\\roaming\\python\\python311\\site-packages (0.15.13)\n",
      "Requirement already satisfied: chardet in c:\\users\\filic\\appdata\\roaming\\python\\python311\\site-packages (from unstructured) (5.2.0)\n",
      "Requirement already satisfied: filetype in c:\\users\\filic\\appdata\\roaming\\python\\python311\\site-packages (from unstructured) (1.2.0)\n",
      "Requirement already satisfied: python-magic in c:\\users\\filic\\appdata\\roaming\\python\\python311\\site-packages (from unstructured) (0.4.27)\n",
      "Requirement already satisfied: lxml in c:\\users\\filic\\appdata\\roaming\\python\\python311\\site-packages (from unstructured) (5.3.0)\n",
      "Requirement already satisfied: nltk in c:\\users\\filic\\appdata\\roaming\\python\\python311\\site-packages (from unstructured) (3.9.1)\n",
      "Requirement already satisfied: tabulate in c:\\users\\filic\\appdata\\roaming\\python\\python311\\site-packages (from unstructured) (0.9.0)\n",
      "Requirement already satisfied: requests in c:\\programdata\\anaconda3\\envs\\langchane\\lib\\site-packages (from unstructured) (2.32.3)\n",
      "Requirement already satisfied: beautifulsoup4 in c:\\users\\filic\\appdata\\roaming\\python\\python311\\site-packages (from unstructured) (4.12.3)\n",
      "Requirement already satisfied: emoji in c:\\users\\filic\\appdata\\roaming\\python\\python311\\site-packages (from unstructured) (2.14.0)\n",
      "Requirement already satisfied: dataclasses-json in c:\\users\\filic\\appdata\\roaming\\python\\python311\\site-packages (from unstructured) (0.6.7)\n",
      "Requirement already satisfied: python-iso639 in c:\\users\\filic\\appdata\\roaming\\python\\python311\\site-packages (from unstructured) (2024.4.27)\n",
      "Requirement already satisfied: langdetect in c:\\users\\filic\\appdata\\roaming\\python\\python311\\site-packages (from unstructured) (1.0.9)\n",
      "Requirement already satisfied: numpy<2 in c:\\programdata\\anaconda3\\envs\\langchane\\lib\\site-packages (from unstructured) (1.26.4)\n",
      "Requirement already satisfied: rapidfuzz in c:\\users\\filic\\appdata\\roaming\\python\\python311\\site-packages (from unstructured) (3.10.0)\n",
      "Requirement already satisfied: backoff in c:\\users\\filic\\appdata\\roaming\\python\\python311\\site-packages (from unstructured) (2.2.1)\n",
      "Requirement already satisfied: typing-extensions in c:\\programdata\\anaconda3\\envs\\langchane\\lib\\site-packages (from unstructured) (4.11.0)\n",
      "Requirement already satisfied: unstructured-client in c:\\users\\filic\\appdata\\roaming\\python\\python311\\site-packages (from unstructured) (0.26.0)\n",
      "Requirement already satisfied: wrapt in c:\\programdata\\anaconda3\\envs\\langchane\\lib\\site-packages (from unstructured) (1.16.0)\n",
      "Requirement already satisfied: tqdm in c:\\programdata\\anaconda3\\envs\\langchane\\lib\\site-packages (from unstructured) (4.66.4)\n",
      "Requirement already satisfied: psutil in c:\\programdata\\anaconda3\\envs\\langchane\\lib\\site-packages (from unstructured) (5.9.0)\n",
      "Requirement already satisfied: python-oxmsg in c:\\users\\filic\\appdata\\roaming\\python\\python311\\site-packages (from unstructured) (0.0.1)\n",
      "Requirement already satisfied: soupsieve>1.2 in c:\\users\\filic\\appdata\\roaming\\python\\python311\\site-packages (from beautifulsoup4->unstructured) (2.6)\n",
      "Requirement already satisfied: marshmallow<4.0.0,>=3.18.0 in c:\\users\\filic\\appdata\\roaming\\python\\python311\\site-packages (from dataclasses-json->unstructured) (3.21.3)\n",
      "Requirement already satisfied: typing-inspect<1,>=0.4.0 in c:\\users\\filic\\appdata\\roaming\\python\\python311\\site-packages (from dataclasses-json->unstructured) (0.9.0)\n",
      "Requirement already satisfied: six in c:\\programdata\\anaconda3\\envs\\langchane\\lib\\site-packages (from langdetect->unstructured) (1.16.0)\n",
      "Requirement already satisfied: click in c:\\users\\filic\\appdata\\roaming\\python\\python311\\site-packages (from nltk->unstructured) (8.1.7)\n",
      "Requirement already satisfied: joblib in c:\\users\\filic\\appdata\\roaming\\python\\python311\\site-packages (from nltk->unstructured) (1.4.2)\n",
      "Requirement already satisfied: regex>=2021.8.3 in c:\\users\\filic\\appdata\\roaming\\python\\python311\\site-packages (from nltk->unstructured) (2024.5.15)\n",
      "Requirement already satisfied: olefile in c:\\users\\filic\\appdata\\roaming\\python\\python311\\site-packages (from python-oxmsg->unstructured) (0.47)\n",
      "Requirement already satisfied: charset-normalizer<4,>=2 in c:\\programdata\\anaconda3\\envs\\langchane\\lib\\site-packages (from requests->unstructured) (3.3.2)\n",
      "Requirement already satisfied: idna<4,>=2.5 in c:\\programdata\\anaconda3\\envs\\langchane\\lib\\site-packages (from requests->unstructured) (3.7)\n",
      "Requirement already satisfied: urllib3<3,>=1.21.1 in c:\\users\\filic\\appdata\\roaming\\python\\python311\\site-packages (from requests->unstructured) (1.26.20)\n",
      "Requirement already satisfied: certifi>=2017.4.17 in c:\\programdata\\anaconda3\\envs\\langchane\\lib\\site-packages (from requests->unstructured) (2024.7.4)\n",
      "Requirement already satisfied: colorama in c:\\programdata\\anaconda3\\envs\\langchane\\lib\\site-packages (from tqdm->unstructured) (0.4.6)\n",
      "Requirement already satisfied: cryptography>=3.1 in c:\\users\\filic\\appdata\\roaming\\python\\python311\\site-packages (from unstructured-client->unstructured) (42.0.8)\n",
      "Requirement already satisfied: eval-type-backport<0.3.0,>=0.2.0 in c:\\users\\filic\\appdata\\roaming\\python\\python311\\site-packages (from unstructured-client->unstructured) (0.2.0)\n",
      "Requirement already satisfied: httpx>=0.27.0 in c:\\users\\filic\\appdata\\roaming\\python\\python311\\site-packages (from unstructured-client->unstructured) (0.27.0)\n",
      "Requirement already satisfied: jsonpath-python<2.0.0,>=1.0.6 in c:\\users\\filic\\appdata\\roaming\\python\\python311\\site-packages (from unstructured-client->unstructured) (1.0.6)\n",
      "Requirement already satisfied: nest-asyncio>=1.6.0 in c:\\programdata\\anaconda3\\envs\\langchane\\lib\\site-packages (from unstructured-client->unstructured) (1.6.0)\n",
      "Requirement already satisfied: pydantic<2.10.0,>=2.9.0 in c:\\users\\filic\\appdata\\roaming\\python\\python311\\site-packages (from unstructured-client->unstructured) (2.9.2)\n",
      "Requirement already satisfied: pypdf>=4.0 in c:\\users\\filic\\appdata\\roaming\\python\\python311\\site-packages (from unstructured-client->unstructured) (5.0.0)\n",
      "Requirement already satisfied: python-dateutil==2.8.2 in c:\\users\\filic\\appdata\\roaming\\python\\python311\\site-packages (from unstructured-client->unstructured) (2.8.2)\n",
      "Requirement already satisfied: requests-toolbelt>=1.0.0 in c:\\users\\filic\\appdata\\roaming\\python\\python311\\site-packages (from unstructured-client->unstructured) (1.0.0)\n",
      "Requirement already satisfied: cffi>=1.12 in c:\\users\\filic\\appdata\\roaming\\python\\python311\\site-packages (from cryptography>=3.1->unstructured-client->unstructured) (1.16.0)\n",
      "Requirement already satisfied: anyio in c:\\users\\filic\\appdata\\roaming\\python\\python311\\site-packages (from httpx>=0.27.0->unstructured-client->unstructured) (4.4.0)\n",
      "Requirement already satisfied: httpcore==1.* in c:\\users\\filic\\appdata\\roaming\\python\\python311\\site-packages (from httpx>=0.27.0->unstructured-client->unstructured) (1.0.5)\n",
      "Requirement already satisfied: sniffio in c:\\users\\filic\\appdata\\roaming\\python\\python311\\site-packages (from httpx>=0.27.0->unstructured-client->unstructured) (1.3.1)\n",
      "Requirement already satisfied: h11<0.15,>=0.13 in c:\\users\\filic\\appdata\\roaming\\python\\python311\\site-packages (from httpcore==1.*->httpx>=0.27.0->unstructured-client->unstructured) (0.14.0)\n",
      "Requirement already satisfied: packaging>=17.0 in c:\\programdata\\anaconda3\\envs\\langchane\\lib\\site-packages (from marshmallow<4.0.0,>=3.18.0->dataclasses-json->unstructured) (24.1)\n",
      "Requirement already satisfied: annotated-types>=0.6.0 in c:\\programdata\\anaconda3\\envs\\langchane\\lib\\site-packages (from pydantic<2.10.0,>=2.9.0->unstructured-client->unstructured) (0.7.0)\n",
      "Requirement already satisfied: pydantic-core==2.23.4 in c:\\users\\filic\\appdata\\roaming\\python\\python311\\site-packages (from pydantic<2.10.0,>=2.9.0->unstructured-client->unstructured) (2.23.4)\n",
      "Requirement already satisfied: mypy-extensions>=0.3.0 in c:\\users\\filic\\appdata\\roaming\\python\\python311\\site-packages (from typing-inspect<1,>=0.4.0->dataclasses-json->unstructured) (1.0.0)\n",
      "Requirement already satisfied: pycparser in c:\\users\\filic\\appdata\\roaming\\python\\python311\\site-packages (from cffi>=1.12->cryptography>=3.1->unstructured-client->unstructured) (2.22)\n",
      "Note: you may need to restart the kernel to use updated packages.\n"
     ]
    },
    {
     "name": "stderr",
     "output_type": "stream",
     "text": [
      "\"DOSKEY\" �� ���� ����७��� ��� ���譥�\n",
      "��������, �ᯮ��塞�� �ணࠬ��� ��� ������ 䠩���.\n"
     ]
    }
   ],
   "source": [
    "%pip install unstructured"
   ]
  },
  {
   "cell_type": "code",
   "execution_count": 2,
   "metadata": {},
   "outputs": [
    {
     "name": "stdout",
     "output_type": "stream",
     "text": [
      "Note: you may need to restart the kernel to use updated packages.\n"
     ]
    },
    {
     "name": "stderr",
     "output_type": "stream",
     "text": [
      "\"DOSKEY\" �� ���� ����७��� ��� ���譥�\n",
      "��������, �ᯮ��塞�� �ணࠬ��� ��� ������ 䠩���.\n"
     ]
    }
   ],
   "source": [
    "%pip install --upgrade --quiet  docx2txt"
   ]
  },
  {
   "cell_type": "code",
   "execution_count": 3,
   "metadata": {},
   "outputs": [
    {
     "name": "stdout",
     "output_type": "stream",
     "text": [
      "Defaulting to user installation because normal site-packages is not writeable\n",
      "Requirement already satisfied: yandex-chain in c:\\users\\filic\\appdata\\roaming\\python\\python311\\site-packages (0.0.9)\n",
      "Requirement already satisfied: requests in c:\\programdata\\anaconda3\\envs\\langchane\\lib\\site-packages (from yandex-chain) (2.32.3)\n",
      "Requirement already satisfied: langchain==0.2.1 in c:\\users\\filic\\appdata\\roaming\\python\\python311\\site-packages (from yandex-chain) (0.2.1)\n",
      "Requirement already satisfied: tenacity in c:\\programdata\\anaconda3\\envs\\langchane\\lib\\site-packages (from yandex-chain) (8.5.0)\n",
      "Requirement already satisfied: PyYAML>=5.3 in c:\\programdata\\anaconda3\\envs\\langchane\\lib\\site-packages (from langchain==0.2.1->yandex-chain) (6.0.1)\n",
      "Requirement already satisfied: SQLAlchemy<3,>=1.4 in c:\\programdata\\anaconda3\\envs\\langchane\\lib\\site-packages (from langchain==0.2.1->yandex-chain) (2.0.31)\n",
      "Requirement already satisfied: aiohttp<4.0.0,>=3.8.3 in c:\\programdata\\anaconda3\\envs\\langchane\\lib\\site-packages (from langchain==0.2.1->yandex-chain) (3.9.5)\n",
      "Requirement already satisfied: langchain-core<0.3.0,>=0.2.0 in c:\\users\\filic\\appdata\\roaming\\python\\python311\\site-packages (from langchain==0.2.1->yandex-chain) (0.2.41)\n",
      "Requirement already satisfied: langchain-text-splitters<0.3.0,>=0.2.0 in c:\\users\\filic\\appdata\\roaming\\python\\python311\\site-packages (from langchain==0.2.1->yandex-chain) (0.2.4)\n",
      "Requirement already satisfied: langsmith<0.2.0,>=0.1.17 in c:\\users\\filic\\appdata\\roaming\\python\\python311\\site-packages (from langchain==0.2.1->yandex-chain) (0.1.129)\n",
      "Requirement already satisfied: numpy<2,>=1 in c:\\programdata\\anaconda3\\envs\\langchane\\lib\\site-packages (from langchain==0.2.1->yandex-chain) (1.26.4)\n",
      "Requirement already satisfied: pydantic<3,>=1 in c:\\users\\filic\\appdata\\roaming\\python\\python311\\site-packages (from langchain==0.2.1->yandex-chain) (2.9.2)\n",
      "Requirement already satisfied: charset-normalizer<4,>=2 in c:\\programdata\\anaconda3\\envs\\langchane\\lib\\site-packages (from requests->yandex-chain) (3.3.2)\n",
      "Requirement already satisfied: idna<4,>=2.5 in c:\\programdata\\anaconda3\\envs\\langchane\\lib\\site-packages (from requests->yandex-chain) (3.7)\n",
      "Requirement already satisfied: urllib3<3,>=1.21.1 in c:\\users\\filic\\appdata\\roaming\\python\\python311\\site-packages (from requests->yandex-chain) (1.26.20)\n",
      "Requirement already satisfied: certifi>=2017.4.17 in c:\\programdata\\anaconda3\\envs\\langchane\\lib\\site-packages (from requests->yandex-chain) (2024.7.4)\n",
      "Requirement already satisfied: aiosignal>=1.1.2 in c:\\programdata\\anaconda3\\envs\\langchane\\lib\\site-packages (from aiohttp<4.0.0,>=3.8.3->langchain==0.2.1->yandex-chain) (1.3.1)\n",
      "Requirement already satisfied: attrs>=17.3.0 in c:\\programdata\\anaconda3\\envs\\langchane\\lib\\site-packages (from aiohttp<4.0.0,>=3.8.3->langchain==0.2.1->yandex-chain) (23.2.0)\n",
      "Requirement already satisfied: frozenlist>=1.1.1 in c:\\programdata\\anaconda3\\envs\\langchane\\lib\\site-packages (from aiohttp<4.0.0,>=3.8.3->langchain==0.2.1->yandex-chain) (1.4.1)\n",
      "Requirement already satisfied: multidict<7.0,>=4.5 in c:\\programdata\\anaconda3\\envs\\langchane\\lib\\site-packages (from aiohttp<4.0.0,>=3.8.3->langchain==0.2.1->yandex-chain) (6.0.5)\n",
      "Requirement already satisfied: yarl<2.0,>=1.0 in c:\\programdata\\anaconda3\\envs\\langchane\\lib\\site-packages (from aiohttp<4.0.0,>=3.8.3->langchain==0.2.1->yandex-chain) (1.9.4)\n",
      "Requirement already satisfied: jsonpatch<2.0,>=1.33 in c:\\programdata\\anaconda3\\envs\\langchane\\lib\\site-packages (from langchain-core<0.3.0,>=0.2.0->langchain==0.2.1->yandex-chain) (1.33)\n",
      "Requirement already satisfied: packaging<25,>=23.2 in c:\\programdata\\anaconda3\\envs\\langchane\\lib\\site-packages (from langchain-core<0.3.0,>=0.2.0->langchain==0.2.1->yandex-chain) (24.1)\n",
      "Requirement already satisfied: typing-extensions>=4.7 in c:\\programdata\\anaconda3\\envs\\langchane\\lib\\site-packages (from langchain-core<0.3.0,>=0.2.0->langchain==0.2.1->yandex-chain) (4.11.0)\n",
      "Requirement already satisfied: httpx<1,>=0.23.0 in c:\\users\\filic\\appdata\\roaming\\python\\python311\\site-packages (from langsmith<0.2.0,>=0.1.17->langchain==0.2.1->yandex-chain) (0.27.0)\n",
      "Requirement already satisfied: orjson<4.0.0,>=3.9.14 in c:\\programdata\\anaconda3\\envs\\langchane\\lib\\site-packages (from langsmith<0.2.0,>=0.1.17->langchain==0.2.1->yandex-chain) (3.10.6)\n",
      "Requirement already satisfied: annotated-types>=0.6.0 in c:\\programdata\\anaconda3\\envs\\langchane\\lib\\site-packages (from pydantic<3,>=1->langchain==0.2.1->yandex-chain) (0.7.0)\n",
      "Requirement already satisfied: pydantic-core==2.23.4 in c:\\users\\filic\\appdata\\roaming\\python\\python311\\site-packages (from pydantic<3,>=1->langchain==0.2.1->yandex-chain) (2.23.4)\n",
      "Requirement already satisfied: greenlet!=0.4.17 in c:\\programdata\\anaconda3\\envs\\langchane\\lib\\site-packages (from SQLAlchemy<3,>=1.4->langchain==0.2.1->yandex-chain) (3.0.3)\n",
      "Requirement already satisfied: anyio in c:\\users\\filic\\appdata\\roaming\\python\\python311\\site-packages (from httpx<1,>=0.23.0->langsmith<0.2.0,>=0.1.17->langchain==0.2.1->yandex-chain) (4.4.0)\n",
      "Requirement already satisfied: httpcore==1.* in c:\\users\\filic\\appdata\\roaming\\python\\python311\\site-packages (from httpx<1,>=0.23.0->langsmith<0.2.0,>=0.1.17->langchain==0.2.1->yandex-chain) (1.0.5)\n",
      "Requirement already satisfied: sniffio in c:\\users\\filic\\appdata\\roaming\\python\\python311\\site-packages (from httpx<1,>=0.23.0->langsmith<0.2.0,>=0.1.17->langchain==0.2.1->yandex-chain) (1.3.1)\n",
      "Requirement already satisfied: h11<0.15,>=0.13 in c:\\users\\filic\\appdata\\roaming\\python\\python311\\site-packages (from httpcore==1.*->httpx<1,>=0.23.0->langsmith<0.2.0,>=0.1.17->langchain==0.2.1->yandex-chain) (0.14.0)\n",
      "Requirement already satisfied: jsonpointer>=1.9 in c:\\programdata\\anaconda3\\envs\\langchane\\lib\\site-packages (from jsonpatch<2.0,>=1.33->langchain-core<0.3.0,>=0.2.0->langchain==0.2.1->yandex-chain) (3.0.0)\n",
      "Note: you may need to restart the kernel to use updated packages.\n"
     ]
    },
    {
     "name": "stderr",
     "output_type": "stream",
     "text": [
      "\"DOSKEY\" �� ���� ����७��� ��� ���譥�\n",
      "��������, �ᯮ��塞�� �ணࠬ��� ��� ������ 䠩���.\n"
     ]
    }
   ],
   "source": [
    "%pip install yandex-chain"
   ]
  },
  {
   "cell_type": "code",
   "execution_count": 6,
   "metadata": {},
   "outputs": [
    {
     "name": "stdout",
     "output_type": "stream",
     "text": [
      "Defaulting to user installation because normal site-packages is not writeable\n",
      "Collecting doc2docx\n",
      "  Downloading doc2docx-0.2.4-py3-none-any.whl.metadata (3.3 kB)\n",
      "Requirement already satisfied: pywin32<306,>=305 in c:\\programdata\\anaconda3\\envs\\langchane\\lib\\site-packages (from doc2docx) (305.1)\n",
      "Requirement already satisfied: tqdm<5.0.0,>=4.65.0 in c:\\programdata\\anaconda3\\envs\\langchane\\lib\\site-packages (from doc2docx) (4.66.4)\n",
      "Requirement already satisfied: colorama in c:\\programdata\\anaconda3\\envs\\langchane\\lib\\site-packages (from tqdm<5.0.0,>=4.65.0->doc2docx) (0.4.6)\n",
      "Downloading doc2docx-0.2.4-py3-none-any.whl (6.8 kB)\n",
      "Installing collected packages: doc2docx\n",
      "Successfully installed doc2docx-0.2.4\n",
      "Note: you may need to restart the kernel to use updated packages.\n"
     ]
    },
    {
     "name": "stderr",
     "output_type": "stream",
     "text": [
      "\"DOSKEY\" �� ���� ����७��� ��� ���譥�\n",
      "��������, �ᯮ��塞�� �ணࠬ��� ��� ������ 䠩���.\n",
      "  WARNING: The script doc2docx.exe is installed in 'C:\\Users\\Filic\\AppData\\Roaming\\Python\\Python311\\Scripts' which is not on PATH.\n",
      "  Consider adding this directory to PATH or, if you prefer to suppress this warning, use --no-warn-script-location.\n"
     ]
    }
   ],
   "source": [
    "%pip install doc2docx"
   ]
  },
  {
   "cell_type": "code",
   "execution_count": 1,
   "metadata": {},
   "outputs": [
    {
     "name": "stdout",
     "output_type": "stream",
     "text": [
      "Defaulting to user installation because normal site-packages is not writeable\n",
      "Collecting docx2pdf\n",
      "  Downloading docx2pdf-0.1.8-py3-none-any.whl.metadata (3.3 kB)\n",
      "Requirement already satisfied: pywin32>=227 in c:\\programdata\\anaconda3\\envs\\langchane\\lib\\site-packages (from docx2pdf) (305.1)\n",
      "Requirement already satisfied: tqdm>=4.41.0 in c:\\programdata\\anaconda3\\envs\\langchane\\lib\\site-packages (from docx2pdf) (4.66.4)\n",
      "Requirement already satisfied: colorama in c:\\programdata\\anaconda3\\envs\\langchane\\lib\\site-packages (from tqdm>=4.41.0->docx2pdf) (0.4.6)\n",
      "Downloading docx2pdf-0.1.8-py3-none-any.whl (6.7 kB)\n",
      "Installing collected packages: docx2pdf\n",
      "Successfully installed docx2pdf-0.1.8\n",
      "Note: you may need to restart the kernel to use updated packages.\n"
     ]
    },
    {
     "name": "stderr",
     "output_type": "stream",
     "text": [
      "\"DOSKEY\" �� ���� ����७��� ��� ���譥�\n",
      "��������, �ᯮ��塞�� �ணࠬ��� ��� ������ 䠩���.\n",
      "  WARNING: The script docx2pdf.exe is installed in 'C:\\Users\\Filic\\AppData\\Roaming\\Python\\Python311\\Scripts' which is not on PATH.\n",
      "  Consider adding this directory to PATH or, if you prefer to suppress this warning, use --no-warn-script-location.\n"
     ]
    }
   ],
   "source": [
    "%pip install docx2pdf"
   ]
  },
  {
   "cell_type": "code",
   "execution_count": 3,
   "metadata": {},
   "outputs": [
    {
     "name": "stdout",
     "output_type": "stream",
     "text": [
      "Defaulting to user installation because normal site-packages is not writeable\n",
      "Collecting aspose-words\n",
      "  Downloading aspose_words-24.10.0-py3-none-win_amd64.whl.metadata (8.4 kB)\n",
      "Downloading aspose_words-24.10.0-py3-none-win_amd64.whl (65.9 MB)\n",
      "   ---------------------------------------- 0.0/65.9 MB ? eta -:--:--\n",
      "   ---------------------------------------- 0.0/65.9 MB ? eta -:--:--\n",
      "   ---------------------------------------- 0.0/65.9 MB 435.7 kB/s eta 0:02:32\n",
      "   ---------------------------------------- 0.1/65.9 MB 550.5 kB/s eta 0:02:00\n",
      "   ---------------------------------------- 0.1/65.9 MB 853.3 kB/s eta 0:01:18\n",
      "   ---------------------------------------- 0.2/65.9 MB 1.2 MB/s eta 0:00:55\n",
      "   ---------------------------------------- 0.4/65.9 MB 1.6 MB/s eta 0:00:41\n",
      "   ---------------------------------------- 0.5/65.9 MB 1.6 MB/s eta 0:00:43\n",
      "   ---------------------------------------- 0.6/65.9 MB 1.8 MB/s eta 0:00:38\n",
      "   ---------------------------------------- 0.8/65.9 MB 2.0 MB/s eta 0:00:34\n",
      "    --------------------------------------- 1.0/65.9 MB 2.2 MB/s eta 0:00:30\n",
      "    --------------------------------------- 1.1/65.9 MB 2.3 MB/s eta 0:00:29\n",
      "    --------------------------------------- 1.3/65.9 MB 2.4 MB/s eta 0:00:28\n",
      "    --------------------------------------- 1.5/65.9 MB 2.6 MB/s eta 0:00:26\n",
      "   - -------------------------------------- 1.6/65.9 MB 2.6 MB/s eta 0:00:25\n",
      "   - -------------------------------------- 1.9/65.9 MB 2.8 MB/s eta 0:00:24\n",
      "   - -------------------------------------- 2.0/65.9 MB 2.8 MB/s eta 0:00:23\n",
      "   - -------------------------------------- 2.2/65.9 MB 2.9 MB/s eta 0:00:22\n",
      "   - -------------------------------------- 2.3/65.9 MB 2.9 MB/s eta 0:00:22\n",
      "   - -------------------------------------- 2.3/65.9 MB 2.9 MB/s eta 0:00:22\n",
      "   - -------------------------------------- 2.6/65.9 MB 2.8 MB/s eta 0:00:23\n",
      "   - -------------------------------------- 2.6/65.9 MB 2.8 MB/s eta 0:00:23\n",
      "   - -------------------------------------- 2.7/65.9 MB 2.8 MB/s eta 0:00:23\n",
      "   - -------------------------------------- 2.9/65.9 MB 2.8 MB/s eta 0:00:23\n",
      "   - -------------------------------------- 3.1/65.9 MB 2.8 MB/s eta 0:00:23\n",
      "   - -------------------------------------- 3.3/65.9 MB 2.9 MB/s eta 0:00:22\n",
      "   -- ------------------------------------- 3.5/65.9 MB 2.9 MB/s eta 0:00:22\n",
      "   -- ------------------------------------- 3.7/65.9 MB 3.0 MB/s eta 0:00:21\n",
      "   -- ------------------------------------- 3.9/65.9 MB 3.1 MB/s eta 0:00:21\n",
      "   -- ------------------------------------- 4.1/65.9 MB 3.1 MB/s eta 0:00:20\n",
      "   -- ------------------------------------- 4.3/65.9 MB 3.1 MB/s eta 0:00:20\n",
      "   -- ------------------------------------- 4.5/65.9 MB 3.2 MB/s eta 0:00:20\n",
      "   -- ------------------------------------- 4.8/65.9 MB 3.2 MB/s eta 0:00:19\n",
      "   -- ------------------------------------- 4.9/65.9 MB 3.3 MB/s eta 0:00:19\n",
      "   --- ------------------------------------ 5.2/65.9 MB 3.3 MB/s eta 0:00:19\n",
      "   --- ------------------------------------ 5.4/65.9 MB 3.3 MB/s eta 0:00:19\n",
      "   --- ------------------------------------ 5.7/65.9 MB 3.4 MB/s eta 0:00:18\n",
      "   --- ------------------------------------ 5.9/65.9 MB 3.5 MB/s eta 0:00:18\n",
      "   --- ------------------------------------ 6.2/65.9 MB 3.5 MB/s eta 0:00:17\n",
      "   --- ------------------------------------ 6.5/65.9 MB 3.6 MB/s eta 0:00:17\n",
      "   ---- ----------------------------------- 6.8/65.9 MB 3.7 MB/s eta 0:00:17\n",
      "   ---- ----------------------------------- 7.0/65.9 MB 3.7 MB/s eta 0:00:16\n",
      "   ---- ----------------------------------- 7.3/65.9 MB 3.8 MB/s eta 0:00:16\n",
      "   ---- ----------------------------------- 7.6/65.9 MB 3.8 MB/s eta 0:00:16\n",
      "   ---- ----------------------------------- 7.8/65.9 MB 3.8 MB/s eta 0:00:16\n",
      "   ---- ----------------------------------- 8.0/65.9 MB 3.9 MB/s eta 0:00:16\n",
      "   ---- ----------------------------------- 8.2/65.9 MB 3.9 MB/s eta 0:00:15\n",
      "   ---- ----------------------------------- 8.2/65.9 MB 3.9 MB/s eta 0:00:15\n",
      "   ---- ----------------------------------- 8.2/65.9 MB 3.9 MB/s eta 0:00:15\n",
      "   ----- ---------------------------------- 8.7/65.9 MB 3.8 MB/s eta 0:00:15\n",
      "   ----- ---------------------------------- 8.9/65.9 MB 3.8 MB/s eta 0:00:15\n",
      "   ----- ---------------------------------- 9.0/65.9 MB 3.8 MB/s eta 0:00:15\n",
      "   ----- ---------------------------------- 9.3/65.9 MB 3.9 MB/s eta 0:00:15\n",
      "   ----- ---------------------------------- 9.7/65.9 MB 3.9 MB/s eta 0:00:15\n",
      "   ------ --------------------------------- 10.0/65.9 MB 4.0 MB/s eta 0:00:15\n",
      "   ------ --------------------------------- 10.2/65.9 MB 4.0 MB/s eta 0:00:14\n",
      "   ------ --------------------------------- 10.3/65.9 MB 4.1 MB/s eta 0:00:14\n",
      "   ------ --------------------------------- 10.6/65.9 MB 4.3 MB/s eta 0:00:14\n",
      "   ------ --------------------------------- 10.8/65.9 MB 4.4 MB/s eta 0:00:13\n",
      "   ------ --------------------------------- 11.2/65.9 MB 4.5 MB/s eta 0:00:13\n",
      "   ------ --------------------------------- 11.5/65.9 MB 4.5 MB/s eta 0:00:12\n",
      "   ------- -------------------------------- 11.8/65.9 MB 4.6 MB/s eta 0:00:12\n",
      "   ------- -------------------------------- 12.0/65.9 MB 4.6 MB/s eta 0:00:12\n",
      "   ------- -------------------------------- 12.2/65.9 MB 4.6 MB/s eta 0:00:12\n",
      "   ------- -------------------------------- 12.6/65.9 MB 4.9 MB/s eta 0:00:11\n",
      "   ------- -------------------------------- 12.9/65.9 MB 5.0 MB/s eta 0:00:11\n",
      "   -------- ------------------------------- 13.2/65.9 MB 5.1 MB/s eta 0:00:11\n",
      "   -------- ------------------------------- 13.5/65.9 MB 5.2 MB/s eta 0:00:11\n",
      "   -------- ------------------------------- 13.7/65.9 MB 5.2 MB/s eta 0:00:11\n",
      "   -------- ------------------------------- 14.0/65.9 MB 5.2 MB/s eta 0:00:10\n",
      "   -------- ------------------------------- 14.3/65.9 MB 5.2 MB/s eta 0:00:10\n",
      "   -------- ------------------------------- 14.6/65.9 MB 5.4 MB/s eta 0:00:10\n",
      "   -------- ------------------------------- 14.8/65.9 MB 5.3 MB/s eta 0:00:10\n",
      "   --------- ------------------------------ 15.1/65.9 MB 5.4 MB/s eta 0:00:10\n",
      "   --------- ------------------------------ 15.5/65.9 MB 5.5 MB/s eta 0:00:10\n",
      "   --------- ------------------------------ 15.8/65.9 MB 5.5 MB/s eta 0:00:10\n",
      "   --------- ------------------------------ 16.0/65.9 MB 5.5 MB/s eta 0:00:10\n",
      "   --------- ------------------------------ 16.2/65.9 MB 5.5 MB/s eta 0:00:10\n",
      "   ---------- ----------------------------- 16.5/65.9 MB 5.5 MB/s eta 0:00:09\n",
      "   ---------- ----------------------------- 16.8/65.9 MB 5.5 MB/s eta 0:00:09\n",
      "   ---------- ----------------------------- 17.2/65.9 MB 5.6 MB/s eta 0:00:09\n",
      "   ---------- ----------------------------- 17.4/65.9 MB 5.6 MB/s eta 0:00:09\n",
      "   ---------- ----------------------------- 17.7/65.9 MB 5.5 MB/s eta 0:00:09\n",
      "   ---------- ----------------------------- 17.9/65.9 MB 5.5 MB/s eta 0:00:09\n",
      "   ----------- ---------------------------- 18.2/65.9 MB 5.6 MB/s eta 0:00:09\n",
      "   ----------- ---------------------------- 18.3/65.9 MB 5.5 MB/s eta 0:00:09\n",
      "   ----------- ---------------------------- 18.5/65.9 MB 5.8 MB/s eta 0:00:09\n",
      "   ----------- ---------------------------- 18.6/65.9 MB 5.6 MB/s eta 0:00:09\n",
      "   ----------- ---------------------------- 18.9/65.9 MB 5.6 MB/s eta 0:00:09\n",
      "   ----------- ---------------------------- 19.2/65.9 MB 5.7 MB/s eta 0:00:09\n",
      "   ----------- ---------------------------- 19.5/65.9 MB 5.7 MB/s eta 0:00:09\n",
      "   ------------ --------------------------- 19.8/65.9 MB 5.7 MB/s eta 0:00:09\n",
      "   ------------ --------------------------- 20.1/65.9 MB 5.7 MB/s eta 0:00:09\n",
      "   ------------ --------------------------- 20.6/65.9 MB 5.9 MB/s eta 0:00:08\n",
      "   ------------ --------------------------- 20.9/65.9 MB 6.0 MB/s eta 0:00:08\n",
      "   ------------ --------------------------- 21.2/65.9 MB 6.0 MB/s eta 0:00:08\n",
      "   ------------- -------------------------- 21.5/65.9 MB 6.0 MB/s eta 0:00:08\n",
      "   ------------- -------------------------- 21.8/65.9 MB 6.0 MB/s eta 0:00:08\n",
      "   ------------- -------------------------- 21.9/65.9 MB 5.8 MB/s eta 0:00:08\n",
      "   ------------- -------------------------- 22.1/65.9 MB 5.8 MB/s eta 0:00:08\n",
      "   ------------- -------------------------- 22.2/65.9 MB 5.8 MB/s eta 0:00:08\n",
      "   ------------- -------------------------- 22.4/65.9 MB 5.7 MB/s eta 0:00:08\n",
      "   ------------- -------------------------- 22.5/65.9 MB 5.6 MB/s eta 0:00:08\n",
      "   ------------- -------------------------- 22.7/65.9 MB 5.6 MB/s eta 0:00:08\n",
      "   ------------- -------------------------- 22.8/65.9 MB 5.5 MB/s eta 0:00:08\n",
      "   ------------- -------------------------- 23.0/65.9 MB 5.4 MB/s eta 0:00:08\n",
      "   -------------- ------------------------- 23.1/65.9 MB 5.3 MB/s eta 0:00:09\n",
      "   -------------- ------------------------- 23.2/65.9 MB 5.2 MB/s eta 0:00:09\n",
      "   -------------- ------------------------- 23.4/65.9 MB 5.2 MB/s eta 0:00:09\n",
      "   -------------- ------------------------- 23.5/65.9 MB 5.2 MB/s eta 0:00:09\n",
      "   -------------- ------------------------- 23.7/65.9 MB 5.1 MB/s eta 0:00:09\n",
      "   -------------- ------------------------- 23.9/65.9 MB 5.0 MB/s eta 0:00:09\n",
      "   -------------- ------------------------- 24.1/65.9 MB 5.0 MB/s eta 0:00:09\n",
      "   -------------- ------------------------- 24.4/65.9 MB 5.0 MB/s eta 0:00:09\n",
      "   -------------- ------------------------- 24.5/65.9 MB 5.0 MB/s eta 0:00:09\n",
      "   --------------- ------------------------ 24.7/65.9 MB 4.9 MB/s eta 0:00:09\n",
      "   --------------- ------------------------ 24.9/65.9 MB 4.9 MB/s eta 0:00:09\n",
      "   --------------- ------------------------ 25.0/65.9 MB 4.8 MB/s eta 0:00:09\n",
      "   --------------- ------------------------ 25.1/65.9 MB 4.8 MB/s eta 0:00:09\n",
      "   --------------- ------------------------ 25.1/65.9 MB 4.7 MB/s eta 0:00:09\n",
      "   --------------- ------------------------ 25.1/65.9 MB 4.7 MB/s eta 0:00:09\n",
      "   --------------- ------------------------ 25.1/65.9 MB 4.5 MB/s eta 0:00:10\n",
      "   --------------- ------------------------ 25.3/65.9 MB 4.5 MB/s eta 0:00:10\n",
      "   --------------- ------------------------ 25.4/65.9 MB 4.4 MB/s eta 0:00:10\n",
      "   --------------- ------------------------ 25.5/65.9 MB 4.4 MB/s eta 0:00:10\n",
      "   --------------- ------------------------ 25.5/65.9 MB 4.3 MB/s eta 0:00:10\n",
      "   --------------- ------------------------ 25.6/65.9 MB 4.2 MB/s eta 0:00:10\n",
      "   --------------- ------------------------ 25.8/65.9 MB 4.2 MB/s eta 0:00:10\n",
      "   --------------- ------------------------ 25.9/65.9 MB 4.1 MB/s eta 0:00:10\n",
      "   --------------- ------------------------ 26.0/65.9 MB 4.0 MB/s eta 0:00:10\n",
      "   --------------- ------------------------ 26.2/65.9 MB 4.0 MB/s eta 0:00:10\n",
      "   ---------------- ----------------------- 26.4/65.9 MB 4.0 MB/s eta 0:00:10\n",
      "   ---------------- ----------------------- 26.6/65.9 MB 4.0 MB/s eta 0:00:10\n",
      "   ---------------- ----------------------- 26.8/65.9 MB 4.0 MB/s eta 0:00:10\n",
      "   ---------------- ----------------------- 27.0/65.9 MB 3.9 MB/s eta 0:00:10\n",
      "   ---------------- ----------------------- 27.2/65.9 MB 3.9 MB/s eta 0:00:10\n",
      "   ---------------- ----------------------- 27.5/65.9 MB 3.9 MB/s eta 0:00:10\n",
      "   ---------------- ----------------------- 27.8/65.9 MB 3.9 MB/s eta 0:00:10\n",
      "   ----------------- ---------------------- 28.1/65.9 MB 3.9 MB/s eta 0:00:10\n",
      "   ----------------- ---------------------- 28.4/65.9 MB 3.9 MB/s eta 0:00:10\n",
      "   ----------------- ---------------------- 28.6/65.9 MB 4.0 MB/s eta 0:00:10\n",
      "   ----------------- ---------------------- 28.7/65.9 MB 4.0 MB/s eta 0:00:10\n",
      "   ----------------- ---------------------- 28.9/65.9 MB 4.0 MB/s eta 0:00:10\n",
      "   ----------------- ---------------------- 28.9/65.9 MB 3.9 MB/s eta 0:00:10\n",
      "   ----------------- ---------------------- 29.0/65.9 MB 3.9 MB/s eta 0:00:10\n",
      "   ----------------- ---------------------- 29.1/65.9 MB 3.8 MB/s eta 0:00:10\n",
      "   ----------------- ---------------------- 29.1/65.9 MB 3.7 MB/s eta 0:00:10\n",
      "   ----------------- ---------------------- 29.2/65.9 MB 3.7 MB/s eta 0:00:10\n",
      "   ----------------- ---------------------- 29.3/65.9 MB 3.7 MB/s eta 0:00:10\n",
      "   ----------------- ---------------------- 29.3/65.9 MB 3.6 MB/s eta 0:00:11\n",
      "   ----------------- ---------------------- 29.5/65.9 MB 3.6 MB/s eta 0:00:11\n",
      "   ----------------- ---------------------- 29.6/65.9 MB 3.5 MB/s eta 0:00:11\n",
      "   ------------------ --------------------- 29.7/65.9 MB 3.5 MB/s eta 0:00:11\n",
      "   ------------------ --------------------- 29.7/65.9 MB 3.5 MB/s eta 0:00:11\n",
      "   ------------------ --------------------- 30.1/65.9 MB 3.5 MB/s eta 0:00:11\n",
      "   ------------------ --------------------- 30.2/65.9 MB 3.4 MB/s eta 0:00:11\n",
      "   ------------------ --------------------- 30.4/65.9 MB 3.4 MB/s eta 0:00:11\n",
      "   ------------------ --------------------- 30.4/65.9 MB 3.4 MB/s eta 0:00:11\n",
      "   ------------------ --------------------- 30.5/65.9 MB 3.3 MB/s eta 0:00:11\n",
      "   ------------------ --------------------- 30.5/65.9 MB 3.3 MB/s eta 0:00:11\n",
      "   ------------------ --------------------- 30.6/65.9 MB 3.2 MB/s eta 0:00:11\n",
      "   ------------------ --------------------- 30.7/65.9 MB 3.2 MB/s eta 0:00:11\n",
      "   ------------------ --------------------- 30.9/65.9 MB 3.2 MB/s eta 0:00:12\n",
      "   ------------------ --------------------- 30.9/65.9 MB 3.1 MB/s eta 0:00:12\n",
      "   ------------------ --------------------- 31.1/65.9 MB 3.1 MB/s eta 0:00:12\n",
      "   ------------------ --------------------- 31.2/65.9 MB 3.1 MB/s eta 0:00:12\n",
      "   ------------------- -------------------- 31.3/65.9 MB 3.1 MB/s eta 0:00:12\n",
      "   ------------------- -------------------- 31.6/65.9 MB 3.0 MB/s eta 0:00:12\n",
      "   ------------------- -------------------- 31.6/65.9 MB 3.0 MB/s eta 0:00:12\n",
      "   ------------------- -------------------- 31.8/65.9 MB 3.0 MB/s eta 0:00:12\n",
      "   ------------------- -------------------- 31.8/65.9 MB 2.9 MB/s eta 0:00:12\n",
      "   ------------------- -------------------- 32.1/65.9 MB 3.0 MB/s eta 0:00:12\n",
      "   ------------------- -------------------- 32.4/65.9 MB 3.0 MB/s eta 0:00:12\n",
      "   ------------------- -------------------- 32.7/65.9 MB 3.0 MB/s eta 0:00:11\n",
      "   ------------------- -------------------- 32.9/65.9 MB 3.0 MB/s eta 0:00:11\n",
      "   -------------------- ------------------- 33.1/65.9 MB 3.1 MB/s eta 0:00:11\n",
      "   -------------------- ------------------- 33.4/65.9 MB 3.1 MB/s eta 0:00:11\n",
      "   -------------------- ------------------- 33.5/65.9 MB 3.1 MB/s eta 0:00:11\n",
      "   -------------------- ------------------- 33.5/65.9 MB 3.1 MB/s eta 0:00:11\n",
      "   -------------------- ------------------- 33.6/65.9 MB 3.1 MB/s eta 0:00:11\n",
      "   -------------------- ------------------- 33.7/65.9 MB 3.1 MB/s eta 0:00:11\n",
      "   -------------------- ------------------- 33.8/65.9 MB 3.0 MB/s eta 0:00:11\n",
      "   -------------------- ------------------- 33.9/65.9 MB 3.0 MB/s eta 0:00:11\n",
      "   -------------------- ------------------- 34.0/65.9 MB 3.0 MB/s eta 0:00:11\n",
      "   -------------------- ------------------- 34.1/65.9 MB 3.0 MB/s eta 0:00:11\n",
      "   -------------------- ------------------- 34.2/65.9 MB 3.0 MB/s eta 0:00:11\n",
      "   -------------------- ------------------- 34.5/65.9 MB 3.0 MB/s eta 0:00:11\n",
      "   --------------------- ------------------ 34.7/65.9 MB 3.0 MB/s eta 0:00:11\n",
      "   --------------------- ------------------ 35.0/65.9 MB 3.0 MB/s eta 0:00:11\n",
      "   --------------------- ------------------ 35.3/65.9 MB 3.1 MB/s eta 0:00:10\n",
      "   --------------------- ------------------ 35.5/65.9 MB 3.2 MB/s eta 0:00:10\n",
      "   --------------------- ------------------ 35.7/65.9 MB 3.2 MB/s eta 0:00:10\n",
      "   --------------------- ------------------ 35.9/65.9 MB 3.3 MB/s eta 0:00:10\n",
      "   --------------------- ------------------ 36.2/65.9 MB 3.4 MB/s eta 0:00:09\n",
      "   ---------------------- ----------------- 36.4/65.9 MB 3.4 MB/s eta 0:00:09\n",
      "   ---------------------- ----------------- 36.7/65.9 MB 3.4 MB/s eta 0:00:09\n",
      "   ---------------------- ----------------- 36.9/65.9 MB 3.4 MB/s eta 0:00:09\n",
      "   ---------------------- ----------------- 37.1/65.9 MB 3.4 MB/s eta 0:00:09\n",
      "   ---------------------- ----------------- 37.3/65.9 MB 3.4 MB/s eta 0:00:09\n",
      "   ---------------------- ----------------- 37.5/65.9 MB 3.4 MB/s eta 0:00:09\n",
      "   ---------------------- ----------------- 37.6/65.9 MB 3.4 MB/s eta 0:00:09\n",
      "   ---------------------- ----------------- 37.7/65.9 MB 3.4 MB/s eta 0:00:09\n",
      "   ---------------------- ----------------- 37.8/65.9 MB 3.3 MB/s eta 0:00:09\n",
      "   ---------------------- ----------------- 37.9/65.9 MB 3.3 MB/s eta 0:00:09\n",
      "   ----------------------- ---------------- 38.0/65.9 MB 3.2 MB/s eta 0:00:09\n",
      "   ----------------------- ---------------- 38.1/65.9 MB 3.2 MB/s eta 0:00:09\n",
      "   ----------------------- ---------------- 38.2/65.9 MB 3.2 MB/s eta 0:00:09\n",
      "   ----------------------- ---------------- 38.4/65.9 MB 3.2 MB/s eta 0:00:09\n",
      "   ----------------------- ---------------- 38.6/65.9 MB 3.1 MB/s eta 0:00:09\n",
      "   ----------------------- ---------------- 39.0/65.9 MB 3.2 MB/s eta 0:00:09\n",
      "   ----------------------- ---------------- 39.3/65.9 MB 3.4 MB/s eta 0:00:08\n",
      "   ------------------------ --------------- 39.6/65.9 MB 3.5 MB/s eta 0:00:08\n",
      "   ------------------------ --------------- 39.9/65.9 MB 3.7 MB/s eta 0:00:08\n",
      "   ------------------------ --------------- 40.3/65.9 MB 3.7 MB/s eta 0:00:07\n",
      "   ------------------------ --------------- 40.6/65.9 MB 3.8 MB/s eta 0:00:07\n",
      "   ------------------------ --------------- 40.8/65.9 MB 3.9 MB/s eta 0:00:07\n",
      "   ------------------------ --------------- 41.0/65.9 MB 4.0 MB/s eta 0:00:07\n",
      "   ------------------------- -------------- 41.2/65.9 MB 4.1 MB/s eta 0:00:07\n",
      "   ------------------------- -------------- 41.3/65.9 MB 4.1 MB/s eta 0:00:07\n",
      "   ------------------------- -------------- 41.6/65.9 MB 4.1 MB/s eta 0:00:06\n",
      "   ------------------------- -------------- 41.8/65.9 MB 4.1 MB/s eta 0:00:06\n",
      "   ------------------------- -------------- 41.9/65.9 MB 4.2 MB/s eta 0:00:06\n",
      "   ------------------------- -------------- 42.2/65.9 MB 4.2 MB/s eta 0:00:06\n",
      "   ------------------------- -------------- 42.5/65.9 MB 4.3 MB/s eta 0:00:06\n",
      "   -------------------------- ------------- 42.9/65.9 MB 4.3 MB/s eta 0:00:06\n",
      "   -------------------------- ------------- 43.2/65.9 MB 4.3 MB/s eta 0:00:06\n",
      "   -------------------------- ------------- 43.5/65.9 MB 4.3 MB/s eta 0:00:06\n",
      "   -------------------------- ------------- 43.8/65.9 MB 4.4 MB/s eta 0:00:05\n",
      "   -------------------------- ------------- 43.9/65.9 MB 4.5 MB/s eta 0:00:05\n",
      "   -------------------------- ------------- 44.1/65.9 MB 4.7 MB/s eta 0:00:05\n",
      "   -------------------------- ------------- 44.3/65.9 MB 4.8 MB/s eta 0:00:05\n",
      "   --------------------------- ------------ 44.5/65.9 MB 4.8 MB/s eta 0:00:05\n",
      "   --------------------------- ------------ 44.7/65.9 MB 4.7 MB/s eta 0:00:05\n",
      "   --------------------------- ------------ 45.1/65.9 MB 4.8 MB/s eta 0:00:05\n",
      "   --------------------------- ------------ 45.4/65.9 MB 4.8 MB/s eta 0:00:05\n",
      "   --------------------------- ------------ 45.7/65.9 MB 4.8 MB/s eta 0:00:05\n",
      "   --------------------------- ------------ 46.0/65.9 MB 4.9 MB/s eta 0:00:05\n",
      "   ---------------------------- ----------- 46.2/65.9 MB 4.9 MB/s eta 0:00:05\n",
      "   ---------------------------- ----------- 46.4/65.9 MB 4.8 MB/s eta 0:00:05\n",
      "   ---------------------------- ----------- 46.6/65.9 MB 4.8 MB/s eta 0:00:05\n",
      "   ---------------------------- ----------- 46.6/65.9 MB 4.8 MB/s eta 0:00:04\n",
      "   ---------------------------- ----------- 46.6/65.9 MB 4.8 MB/s eta 0:00:04\n",
      "   ---------------------------- ----------- 46.9/65.9 MB 4.6 MB/s eta 0:00:05\n",
      "   ---------------------------- ----------- 47.6/65.9 MB 4.9 MB/s eta 0:00:04\n",
      "   ----------------------------- ---------- 47.9/65.9 MB 5.0 MB/s eta 0:00:04\n",
      "   ----------------------------- ---------- 48.3/65.9 MB 5.3 MB/s eta 0:00:04\n",
      "   ----------------------------- ---------- 48.6/65.9 MB 5.6 MB/s eta 0:00:04\n",
      "   ----------------------------- ---------- 48.9/65.9 MB 5.6 MB/s eta 0:00:04\n",
      "   ----------------------------- ---------- 49.3/65.9 MB 5.6 MB/s eta 0:00:03\n",
      "   ------------------------------ --------- 49.5/65.9 MB 5.6 MB/s eta 0:00:03\n",
      "   ------------------------------ --------- 49.6/65.9 MB 5.5 MB/s eta 0:00:03\n",
      "   ------------------------------ --------- 49.9/65.9 MB 5.5 MB/s eta 0:00:03\n",
      "   ------------------------------ --------- 50.0/65.9 MB 5.4 MB/s eta 0:00:03\n",
      "   ------------------------------ --------- 50.0/65.9 MB 5.3 MB/s eta 0:00:03\n",
      "   ------------------------------ --------- 50.1/65.9 MB 5.2 MB/s eta 0:00:04\n",
      "   ------------------------------ --------- 50.2/65.9 MB 5.1 MB/s eta 0:00:04\n",
      "   ------------------------------ --------- 50.4/65.9 MB 5.1 MB/s eta 0:00:04\n",
      "   ------------------------------ --------- 50.5/65.9 MB 5.0 MB/s eta 0:00:04\n",
      "   ------------------------------ --------- 50.6/65.9 MB 4.9 MB/s eta 0:00:04\n",
      "   ------------------------------ --------- 50.8/65.9 MB 4.8 MB/s eta 0:00:04\n",
      "   ------------------------------ --------- 50.9/65.9 MB 4.8 MB/s eta 0:00:04\n",
      "   ------------------------------ --------- 51.0/65.9 MB 4.7 MB/s eta 0:00:04\n",
      "   ------------------------------ --------- 51.0/65.9 MB 4.7 MB/s eta 0:00:04\n",
      "   ------------------------------- -------- 51.1/65.9 MB 4.6 MB/s eta 0:00:04\n",
      "   ------------------------------- -------- 51.2/65.9 MB 4.5 MB/s eta 0:00:04\n",
      "   ------------------------------- -------- 51.4/65.9 MB 4.5 MB/s eta 0:00:04\n",
      "   ------------------------------- -------- 51.5/65.9 MB 4.5 MB/s eta 0:00:04\n",
      "   ------------------------------- -------- 51.5/65.9 MB 4.5 MB/s eta 0:00:04\n",
      "   ------------------------------- -------- 51.5/65.9 MB 4.5 MB/s eta 0:00:04\n",
      "   ------------------------------- -------- 51.5/65.9 MB 4.5 MB/s eta 0:00:04\n",
      "   ------------------------------- -------- 51.5/65.9 MB 4.5 MB/s eta 0:00:04\n",
      "   ------------------------------- -------- 51.5/65.9 MB 4.5 MB/s eta 0:00:04\n",
      "   ------------------------------- -------- 51.5/65.9 MB 4.5 MB/s eta 0:00:04\n",
      "   ------------------------------- -------- 51.5/65.9 MB 4.5 MB/s eta 0:00:04\n",
      "   ------------------------------- -------- 51.5/65.9 MB 4.5 MB/s eta 0:00:04\n",
      "   ------------------------------- -------- 51.5/65.9 MB 4.5 MB/s eta 0:00:04\n",
      "   ------------------------------- -------- 51.5/65.9 MB 4.5 MB/s eta 0:00:04\n",
      "   ------------------------------- -------- 51.5/65.9 MB 4.5 MB/s eta 0:00:04\n",
      "   ------------------------------- -------- 51.7/65.9 MB 3.7 MB/s eta 0:00:04\n",
      "   ------------------------------- -------- 52.0/65.9 MB 3.7 MB/s eta 0:00:04\n",
      "   ------------------------------- -------- 52.1/65.9 MB 3.7 MB/s eta 0:00:04\n",
      "   -------------------------------- ------- 54.0/65.9 MB 4.1 MB/s eta 0:00:03\n",
      "   -------------------------------- ------- 54.3/65.9 MB 4.1 MB/s eta 0:00:03\n",
      "   --------------------------------- ------ 54.6/65.9 MB 4.1 MB/s eta 0:00:03\n",
      "   --------------------------------- ------ 54.8/65.9 MB 4.1 MB/s eta 0:00:03\n",
      "   --------------------------------- ------ 55.1/65.9 MB 4.2 MB/s eta 0:00:03\n",
      "   --------------------------------- ------ 55.2/65.9 MB 4.1 MB/s eta 0:00:03\n",
      "   --------------------------------- ------ 55.3/65.9 MB 4.1 MB/s eta 0:00:03\n",
      "   --------------------------------- ------ 55.4/65.9 MB 4.0 MB/s eta 0:00:03\n",
      "   --------------------------------- ------ 55.5/65.9 MB 4.0 MB/s eta 0:00:03\n",
      "   --------------------------------- ------ 55.6/65.9 MB 3.9 MB/s eta 0:00:03\n",
      "   --------------------------------- ------ 55.9/65.9 MB 3.9 MB/s eta 0:00:03\n",
      "   ---------------------------------- ----- 56.2/65.9 MB 3.9 MB/s eta 0:00:03\n",
      "   ---------------------------------- ----- 56.5/65.9 MB 3.9 MB/s eta 0:00:03\n",
      "   ---------------------------------- ----- 56.6/65.9 MB 3.9 MB/s eta 0:00:03\n",
      "   ---------------------------------- ----- 56.8/65.9 MB 3.9 MB/s eta 0:00:03\n",
      "   ---------------------------------- ----- 57.1/65.9 MB 4.1 MB/s eta 0:00:03\n",
      "   ---------------------------------- ----- 57.3/65.9 MB 4.0 MB/s eta 0:00:03\n",
      "   ---------------------------------- ----- 57.6/65.9 MB 3.9 MB/s eta 0:00:03\n",
      "   ----------------------------------- ---- 57.9/65.9 MB 3.9 MB/s eta 0:00:03\n",
      "   ----------------------------------- ---- 58.1/65.9 MB 3.9 MB/s eta 0:00:02\n",
      "   ----------------------------------- ---- 58.2/65.9 MB 3.9 MB/s eta 0:00:02\n",
      "   ----------------------------------- ---- 58.3/65.9 MB 3.8 MB/s eta 0:00:02\n",
      "   ----------------------------------- ---- 58.4/65.9 MB 3.8 MB/s eta 0:00:02\n",
      "   ----------------------------------- ---- 58.7/65.9 MB 3.8 MB/s eta 0:00:02\n",
      "   ----------------------------------- ---- 58.8/65.9 MB 3.7 MB/s eta 0:00:02\n",
      "   ----------------------------------- ---- 59.0/65.9 MB 3.7 MB/s eta 0:00:02\n",
      "   ----------------------------------- ---- 59.2/65.9 MB 3.7 MB/s eta 0:00:02\n",
      "   ------------------------------------ --- 59.3/65.9 MB 3.6 MB/s eta 0:00:02\n",
      "   ------------------------------------ --- 59.5/65.9 MB 3.6 MB/s eta 0:00:02\n",
      "   ------------------------------------ --- 59.6/65.9 MB 3.6 MB/s eta 0:00:02\n",
      "   ------------------------------------ --- 59.7/65.9 MB 3.5 MB/s eta 0:00:02\n",
      "   ------------------------------------ --- 59.8/65.9 MB 3.5 MB/s eta 0:00:02\n",
      "   ------------------------------------ --- 59.8/65.9 MB 3.5 MB/s eta 0:00:02\n",
      "   ------------------------------------ --- 59.9/65.9 MB 3.4 MB/s eta 0:00:02\n",
      "   ------------------------------------ --- 60.1/65.9 MB 3.4 MB/s eta 0:00:02\n",
      "   ------------------------------------ --- 60.2/65.9 MB 3.4 MB/s eta 0:00:02\n",
      "   ------------------------------------ --- 60.3/65.9 MB 3.4 MB/s eta 0:00:02\n",
      "   ------------------------------------ --- 60.4/65.9 MB 3.4 MB/s eta 0:00:02\n",
      "   ------------------------------------ --- 60.5/65.9 MB 3.4 MB/s eta 0:00:02\n",
      "   ------------------------------------ --- 60.6/65.9 MB 3.4 MB/s eta 0:00:02\n",
      "   ------------------------------------ --- 60.7/65.9 MB 3.4 MB/s eta 0:00:02\n",
      "   ------------------------------------- -- 61.0/65.9 MB 3.5 MB/s eta 0:00:02\n",
      "   ------------------------------------- -- 61.4/65.9 MB 3.7 MB/s eta 0:00:02\n",
      "   ------------------------------------- -- 61.4/65.9 MB 3.7 MB/s eta 0:00:02\n",
      "   ------------------------------------- -- 61.4/65.9 MB 3.7 MB/s eta 0:00:02\n",
      "   ------------------------------------- -- 61.4/65.9 MB 3.7 MB/s eta 0:00:02\n",
      "   ------------------------------------- -- 61.4/65.9 MB 3.7 MB/s eta 0:00:02\n",
      "   ------------------------------------- -- 61.4/65.9 MB 3.7 MB/s eta 0:00:02\n",
      "   ------------------------------------- -- 61.4/65.9 MB 3.7 MB/s eta 0:00:02\n",
      "   ------------------------------------- -- 61.4/65.9 MB 3.7 MB/s eta 0:00:02\n",
      "   ------------------------------------- -- 61.4/65.9 MB 3.7 MB/s eta 0:00:02\n",
      "   ------------------------------------- -- 61.4/65.9 MB 3.7 MB/s eta 0:00:02\n",
      "   ------------------------------------- -- 62.6/65.9 MB 4.2 MB/s eta 0:00:01\n",
      "   -------------------------------------- - 62.7/65.9 MB 4.1 MB/s eta 0:00:01\n",
      "   -------------------------------------- - 62.9/65.9 MB 4.0 MB/s eta 0:00:01\n",
      "   -------------------------------------- - 62.9/65.9 MB 3.9 MB/s eta 0:00:01\n",
      "   -------------------------------------- - 63.2/65.9 MB 3.9 MB/s eta 0:00:01\n",
      "   -------------------------------------- - 63.3/65.9 MB 3.8 MB/s eta 0:00:01\n",
      "   -------------------------------------- - 63.5/65.9 MB 3.7 MB/s eta 0:00:01\n",
      "   -------------------------------------- - 63.6/65.9 MB 3.7 MB/s eta 0:00:01\n",
      "   -------------------------------------- - 63.9/65.9 MB 3.6 MB/s eta 0:00:01\n",
      "   -------------------------------------- - 64.2/65.9 MB 3.6 MB/s eta 0:00:01\n",
      "   ---------------------------------------  64.4/65.9 MB 3.6 MB/s eta 0:00:01\n",
      "   ---------------------------------------  64.6/65.9 MB 3.6 MB/s eta 0:00:01\n",
      "   ---------------------------------------  64.8/65.9 MB 3.5 MB/s eta 0:00:01\n",
      "   ---------------------------------------  65.1/65.9 MB 3.5 MB/s eta 0:00:01\n",
      "   ---------------------------------------  65.4/65.9 MB 3.5 MB/s eta 0:00:01\n",
      "   ---------------------------------------  65.6/65.9 MB 3.7 MB/s eta 0:00:01\n",
      "   ---------------------------------------  65.8/65.9 MB 3.7 MB/s eta 0:00:01\n",
      "   ---------------------------------------  65.9/65.9 MB 3.7 MB/s eta 0:00:01\n",
      "   ---------------------------------------  65.9/65.9 MB 3.7 MB/s eta 0:00:01\n",
      "   ---------------------------------------- 65.9/65.9 MB 3.6 MB/s eta 0:00:00\n",
      "Installing collected packages: aspose-words\n",
      "Successfully installed aspose-words-24.10.0\n",
      "Note: you may need to restart the kernel to use updated packages.\n"
     ]
    },
    {
     "name": "stderr",
     "output_type": "stream",
     "text": [
      "\"DOSKEY\" �� ���� ����७��� ��� ���譥�\n",
      "��������, �ᯮ��塞�� �ணࠬ��� ��� ������ 䠩���.\n"
     ]
    }
   ],
   "source": [
    "%pip install aspose-words"
   ]
  },
  {
   "cell_type": "markdown",
   "metadata": {},
   "source": [
    "# Подгрузим дата-сет:"
   ]
  },
  {
   "cell_type": "code",
   "execution_count": 4,
   "metadata": {},
   "outputs": [],
   "source": [
    "from langchain_community.document_loaders import Docx2txtLoader\n",
    "from langchain.text_splitter import RecursiveCharacterTextSplitter"
   ]
  },
  {
   "cell_type": "markdown",
   "metadata": {},
   "source": [
    "- Вариант с разбитеем на сигменты по рекурсии:"
   ]
  },
  {
   "cell_type": "code",
   "execution_count": 5,
   "metadata": {},
   "outputs": [],
   "source": [
    "def docx_to_fragments(docx: Docx2txtLoader, spliter : RecursiveCharacterTextSplitter):\n",
    "    docs = docx.load()\n",
    "    fragment = spliter.create_documents([x.page_content for x in docs])    \n",
    "    return fragment"
   ]
  },
  {
   "cell_type": "code",
   "execution_count": 6,
   "metadata": {},
   "outputs": [],
   "source": [
    "loader = Docx2txtLoader(\n",
    "    './dataset/Инструкция_пользователя_по_работе_в_системе_Naumen_Service_Desk.docx'\n",
    ")\n",
    "\n",
    "split = RecursiveCharacterTextSplitter(\n",
    "    chunk_size=1024,\n",
    "    chunk_overlap=128\n",
    ")"
   ]
  },
  {
   "cell_type": "code",
   "execution_count": 7,
   "metadata": {},
   "outputs": [],
   "source": [
    "data = docx_to_fragments(loader, split)"
   ]
  },
  {
   "cell_type": "code",
   "execution_count": 8,
   "metadata": {},
   "outputs": [
    {
     "data": {
      "text/plain": [
       "[Document(page_content='ИНСТРУКЦИЯ ПОЛЬЗОВАТЕЛЯ ПО РАБОТЕ С СИСТЕМОЙ NAUMEN SERVICE DESK 4.0 \\n\\nМосква, 2024 г.\\n\\nМосква, 2024 г.\\n\\nМосква,\\n\\nМосква,\\n\\n\\nАннотация\\n\\nНастоящий документ разработан в рамках реализации проекта «Внедрение процесса управления заявками, инцидентами и знаниями на базе Naumen Service Desk 4.0». \\n\\nНастоящий документ представляет собой инструкцию пользователя по работе в системе Naumen Service Desk (далее Система).\\n\\nСодержание\\n\\nАннотация\\t3\\n\\nСодержание\\t4\\n\\n\\t1\\tСтарт работы в Системе\\t6\\n\\n\\t1.1\\tВход в Систему\\t6\\n\\n\\t1.2\\tИнтерфейс Системы\\t6\\n\\n\\t1.2.1\\tОтображение вкладки «Мои заявки»\\t7\\n\\n\\t1.2.2\\tОтображение вкладки «Карточка»\\t8\\n\\n\\t1.2.3\\tОтображение вкладки «Согласования»\\t9\\n\\n\\t1.2.4\\tОтображение вкладки «База знаний»\\t9\\n\\n\\t1.2.5\\tОтображение вкладки «Справка по системе»\\t10\\n\\n\\t2\\tОбщее описание модуля «Личный кабинет»\\t11\\n\\n\\t3\\tРегистрация заявки через ЛК\\t12\\n\\n\\t4\\tСогласование заявки\\t14\\n\\n\\t4.1\\tРабота с перечнем согласований\\t14\\n\\n\\t4.2\\tПросмотр карточки согласования\\t14\\n\\n\\t4.3\\tСогласование или отклонение запроса на согласование\\t15\\n\\n\\t5\\tБаза знаний\\t18'),\n",
       " Document(page_content='4.2\\tПросмотр карточки согласования\\t14\\n\\n\\t4.3\\tСогласование или отклонение запроса на согласование\\t15\\n\\n\\t5\\tБаза знаний\\t18\\n\\n\\t5.1\\tПросмотр статей Базы знаний\\t18\\n\\n\\t5.2\\tОценка статьи Базы знаний\\t19\\n\\n\\t5.3\\tПоиск статей Базы знаний\\t20\\n\\n\\t6\\tБазовые действия для работы в Системе\\t23\\n\\n\\t6.1\\tПросмотр карточки заявки\\t23\\n\\n\\t6.2\\tДобавление комментария в карточке заявки\\t24\\n\\n\\t6.3\\tДобавление файла к заявке\\t24\\n\\n\\t6.4\\tЗакрытие и возобновление заявки через ЛК\\t25\\n\\n\\t6.5\\tУточнение информации по запросу на изменение\\t28\\n\\n\\t6.5.1\\tДобавление файла\\t29\\n\\n\\t6.5.2\\tЗавершение обработки запроса на изменение\\t29\\n\\n\\t6.6\\tПросмотр статей Базы знаний на карточке заявки\\t32\\n\\n\\t7\\tВспомогательные операции для работы в Системе\\t33\\n\\n\\t7.1\\tСмена темы интерфейса\\t33\\n\\n\\t7.2\\tОперации со ссылками в «Избранном»\\t34\\n\\n\\t7.2.1\\tДобавление ссылки на карточку объекта\\t34\\n\\n\\t7.2.2\\tУдаление ссылки\\t35\\n\\n\\t7.3\\tСделать домашней страницей\\t35\\n\\n\\t7.4\\tРабота со списком заявок\\t35\\n\\n\\t7.4.1\\tНастройка отображения списка\\t36\\n\\n\\t7.4.2\\tСортировка списка\\t37\\n\\n\\t7.4.3\\tФильтрация списка\\t38'),\n",
       " Document(page_content='7.4.1\\tНастройка отображения списка\\t36\\n\\n\\t7.4.2\\tСортировка списка\\t37\\n\\n\\t7.4.3\\tФильтрация списка\\t38\\n\\n\\t7.4.4\\tЭкспорт списка в MS Excel\\t38\\n\\n\\t7.4.5\\tОбновление списка\\t39\\n\\n\\n\\nСтарт работы в Системе\\n\\nВход в Систему\\n\\nДля перехода в Личный кабинет пользователя Naumen Service Desk используйте интернет-браузер Microsoft Internet Explorer (версии 9 и старше).\\n\\nДля входа в ЛК пользователя выполните следующие действия:\\n\\nоткройте новое окно браузера;\\n\\nвведите в адресную строку интернет-браузера ссылку на систему и нажмите клавишу ENTER. \\n\\nСистема автоматически авторизует вас.\\n\\n\\n\\nРисунок 11 Стартовое окно при входе в ЛК пользователя\\n\\nИнтерфейс Системы\\n\\nСразу после осуществления входа в Систему пользователь попадает в блок основного содержания (см. Рисунок 11), на котором располагаются:\\n\\nосновные вкладки для работы с Системой («Мои заявки», «Карточка», «Согласование», «База знаний»);\\n\\nкнопка  для вызова панели навигации;\\n\\nпанель поиска    ;\\n\\nинформация о ФИО пользователя, который вошел в Систему ;\\n\\nкнопка «Выход» ;'),\n",
       " Document(page_content='панель поиска    ;\\n\\nинформация о ФИО пользователя, который вошел в Систему ;\\n\\nкнопка «Выход» ;\\n\\nлоготип компании . При нажатии на логотип происходит быстрый переход на вкладку «Мои заявки»\\n\\nОтображение вкладки «Мои заявки» \\n\\nПросмотр списка заявок\\n\\nВ ходе работы с ЛК пользователю предоставляется возможность просматривать списки своих заявок.\\n\\nВесь список заявок расположен на вкладке «Мои заявки» и представляет собой таблицу с определенным набором столбцов (см. Рисунок 12).\\n\\n\\n\\nРисунок 12 Вкладка «Мои заявки» в ЛК пользователя\\n\\nПод списком заявок указывается текущая страница списка и общее количество записей, отображаемых на странице списка.\\n\\nИспользование фильтров в списке заявок\\n\\nФильтрация списка заявок позволяет пользователю оставить на экране только заявки с интересующими его характеристиками.'),\n",
       " Document(page_content='Фильтрация списка заявок позволяет пользователю оставить на экране только заявки с интересующими его характеристиками.  \\n\\nДля того чтобы просмотреть в списке заявки с интересующими характеристиками, на вкладке «Мои заявки» нажмите кнопку Фильтрация (см. Рисунок 13), и выберите требуемые параметры фильтра, например, Дата регистрации – с – по (см. Рисунок 14). \\n\\nВыбранные параметры фильтра можно сохранить в качестве представления, для этого нажмите кнопку «Сохранить представление» и введите название Нового представления (см. Рисунок 15), представление может быть выбрано как представление для отображения по умолчанию. \\n\\n\\n\\n\\n\\nРисунок 13 Отображение кнопки фильтрации на вкладке «Мои заявки»\\n\\n\\n\\n\\n\\nРисунок 14 Выбор параметров фильтра\\n\\n\\n\\nРисунок 15 Сохранение выбранного фильтра в виде представления\\n\\nОтображение вкладки «Карточка» \\n\\nВ ходе работы с ЛК пользователю предоставляется возможность просматривать общую информацию о себе на вкладке «Карточка» (см. Рисунок 16).\\n\\n\\n\\nРисунок 16 Отображение вкладки «Карточка»'),\n",
       " Document(page_content='Рисунок 16 Отображение вкладки «Карточка»\\n\\nОтображение вкладки «Согласования»\\n\\nВ ходе работы с ЛК пользователю могут быть назначены согласования, для просмотра согласований перейдите на вкладку «Согласование» (см. Рисунок 17). Работа со списком согласований аналогична работе со списком заявок (разделы 1.2.1.1 «Просмотр списка заявок», 1.2.1.2 «Использование фильтров в списке заявок»). Работа с согласованиями подробно описана в разделе 4 «Согласование заявки».\\n\\n\\n\\nРисунок 17 Отображение вкладки «Согласование»\\n\\nОтображение вкладки «База знаний»\\n\\nДоступные пользователю разделы Базы знаний отображаются на вкладке «База знаний» (см. Рисунок 18). Подробно работа с Базой знаний описана в разделе 5 «База знаний».\\n\\n\\n\\nРисунок 18 Отображение вкладки «База знаний»\\n\\n\\n\\nОтображение вкладки «Справка по системе»\\n\\nНа вкладке «Справка по системе» отображается Инструкция пользователя по использованию Naumen Service Desk. Для ознакомления с инструкцией нажмите на ее наименование (см. Рисунок 19).'),\n",
       " Document(page_content='Рисунок 19 Инструкция по работе в системе\\n\\nОбщее описание модуля «Личный кабинет»\\n\\nМодуль «Личный кабинет» (далее ЛК) системы Naumen Service Desk (далее Система) предназначен для взаимодействия пользователей со Службой технической поддержки пользователей (далее СТП). С помощью ЛК пользователи могут осуществлять:\\n\\nпросмотр информации о своих заявках:\\n\\nпросмотр общего списка заявок;\\n\\nпросмотр общих параметров и текущего статуса заявок;\\n\\nрегистрацию заявок;\\n\\nбазовые действия с карточкой заявки:\\n\\nпросмотр карточки заявки;\\n\\nдобавление комментариев к заявке;\\n\\nдобавление файлов к заявке;\\n\\nзакрытие или возобновление заявок;\\n\\nсогласование заявок;\\n\\nпросмотр Базы знаний;\\n\\nпросмотр справки по системе.\\n\\nРегистрация заявки через ЛК\\n\\nДля того чтобы зарегистрировать заявку через ЛК, выполните следующие действия:'),\n",
       " Document(page_content='Регистрация заявки через ЛК\\n\\nДля того чтобы зарегистрировать заявку через ЛК, выполните следующие действия:\\n\\nщелкните на кнопке «Добавить заявку» на любой из вкладок (см. Рисунок 31). На экране появится окно «Обращение/Форма добавления» (см. Рисунок 32). В зависимости от выбранной услуги и типа заявки форма регистрации может отличаться. \\n\\n\\n\\nРисунок 31 Отображение кнопки «Добавить заявку»\\n\\n\\n\\nРисунок 32 Отображение формы добавления заявки\\n\\nв открывшемся окне «Заявка/форма добавления» заполните поля:\\n\\n «Тема» - Введите краткое описание Вашей проблемы, с которой Вы столкнулись при использовании ИТ-услуги. Поле, обязательное для заполнения;\\n\\n«Описание» - данное поле служит для добавления дополнительной информации по возникшей проблеме;\\n\\n Рекомендуется приложить к заявке файлы: нажмите на кнопку «Добавить файл», и выберите файл на локальном компьютере при помощи кнопки «Обзор».\\n\\nРекомендуется указать категорию обращения в поле «Категория»'),\n",
       " Document(page_content='Рекомендуется указать категорию обращения в поле «Категория»\\n\\nПоля «Соглашение/Услуга» и «Тип запроса» предзаполнены автоматически и могут быть изменены (список услуг приведен в документе «Описание Каталога Услуг», описание типов запросов приведено ниже).\\n\\nНажмите кнопку «Сохранить». В случае успешной регистрации заявки, на экране появится карточка новой заявки. В случае если при заполнении формы регистрации пользователь допустил какую-либо ошибку, на экране появится сообщение об ошибке.\\n\\nВ системе присутствуют следующие типы запросов:\\n\\n«Инцидент» – событие, которое не является частью нормальной работы ИТ-услуги, ведущие/способные привести к остановке ИТ-услуги или снижению уровня ее качества; требование восстановить техническую работоспособность оборудования и/или ПО, на основе которых функционирует и предоставляется ИТ-услуга;'),\n",
       " Document(page_content='«Запрос на обслуживание» – заявка, связанная с обращением пользователя ИТ-услуг по поводу технической поддержки, не являющаяся инцидентом, содержащая запрос на консультацию/предоставление документации по ИТ-услуге, связанная с требованием выполнить работы, включенные в объем технической поддержки ИТ-услуги, а также дополнительные работы.\\n\\n«Запрос на изменение» – заявка, связанная с запросом пользователя ИТ-услуг или специалиста поддержки, не являющаяся инцидентом, предполагающая реализацию изменения оборудования и/или ПО, на основе которых функционирует и предоставляется ИТ-услуга;\\n\\n«Заявка» – заявка, фиксирующая факт обращения пользователя ИТ-услуг.\\n\\n\\n\\n\\n\\nСогласование заявки\\n\\nВ системе по заявкам могут быть назначены согласования для авторизации ее выполнения. По факту назначения согласования, вам придет оповещение от системы. \\n\\nРабота с перечнем согласований\\n\\nДля того чтобы согласовать или отклонить заявку, направленную вам на согласование, выполните следующие действия:'),\n",
       " Document(page_content='Для того чтобы согласовать или отклонить заявку, направленную вам на согласование, выполните следующие действия:\\n\\nПерейдите на вкладку «Согласование» (см. Рисунок 41).\\n\\nПри необходимости отсортируйте или отфильтруйте перечень согласований (аналогично описанному в 7.4 Работа со списком заявок).\\n\\nЩелкните по дате создания или статусу интересующего согласования для перехода к просмотру его деталей.\\n\\n\\n\\nРисунок 41 Перечень запросов на согласование\\n\\nПросмотр карточки согласования\\n\\nДля того чтобы просмотреть карточку согласования на вкладке «Согласование» в списке согласований щелкните на дату создания или статус согласования. Откроется карточка согласования (см. Рисунок 42).\\n\\n\\n\\nРисунок 42 Карточка согласования\\n\\nВ блоке «Сведения о голосовании» отображается информация о запросе согласования:\\n\\n«Описание» - текст запроса на согласование.'),\n",
       " Document(page_content='В блоке «Сведения о голосовании» отображается информация о запросе согласования:\\n\\n«Описание» - текст запроса на согласование.\\n\\n«Источник» - ссылка на Заявку, из которой было создано согласование. Ссылка отображается при наличии прав на просмотр Заявки (Рисунок 43)(если прав на просмотр Заявки нет – ссылка не отображается).\\n\\n\\n\\nРисунок 43 Нет прав на просмотр заявки\\n\\nВ блоке «Общие сведения» отображается информация о статусе согласования, ФИО согласующего и замечаниях (если они были указаны согласующим).\\n\\nСогласование или отклонение запроса на согласование\\n\\nДля того чтобы согласовать запрос, нажмите кнопку «Согласовано», для отклонения нажмите кнопку «Не согласовано» (Рисунок 44).\\n\\n\\n\\nРисунок 44 Кнопки согласования\\n\\nОтобразится форма для ввода замечаний (см. Рисунок 45). При согласовании поле «Замечания» является необязательным для заполнения (см.Рисунок 45), а при отклонении – обязательным (см.Рисунок 46). Для завершения согласования или отклонения нажмите кнопку «Сохранить».\\n\\n\\n\\nРисунок 45 Согласовано'),\n",
       " Document(page_content='Рисунок 45 Согласовано\\n\\n\\n\\nРисунок 46 Не согласовано\\n\\nБаза знаний\\n\\nПросмотр статей Базы знаний\\n\\nПользователь ЛК может просмотреть все доступные ему статьи Базы знаний из личного кабинета. \\n\\nДля того чтобы просмотреть рекомендуемые статьи:\\n\\nПерейдите на стартовую страницу личного кабинета (см. Рисунок 11);\\n\\nОткройте вкладку «База знаний» и кликните на название раздела Базы знаний (см. Рисунок 51);\\n\\nНа карточке раздела Базы знаний кликните на название статьи Базы знаний (см. Рисунок 52);\\n\\nОткройте карточку статьи Базы знаний (см. Рисунок 53);\\n\\n\\n\\nРисунок 51 Вкладка \"База знаний\"\\n\\n\\n\\nРисунок 52 Просмотр списка разделов Базы знаний\\n\\n\\n\\nРисунок 53 Просмотр карточки статьи  Базы знаний\\n\\nОценка статьи Базы знаний\\n\\nДля того чтобы дать оценку статье Базы знаний:\\n\\nОткройте карточку статьи Базы знаний в соответствии с разделом 6.5 Просмотр статей Базы знаний на карточке заявки, либо разделом 5.1 Просмотр статей Базы знаний;\\n\\nНажмите на кнопку «Редактировать» в блоке «Оценить статью» и проставьте оценку (см. Рисунок 54).'),\n",
       " Document(page_content='Нажмите на кнопку «Редактировать» в блоке «Оценить статью» и проставьте оценку (см. Рисунок 54).\\n\\n\\n\\nРисунок 54 Оценка статьи Базы знаний\\n\\n\\n\\nПоиск статей Базы знаний\\n\\nДля поиска статей воспользуйтесь окном поиска, описанным в разделе 1.2 Интерфейс Системы (см. Рисунок 55).\\n\\n\\n\\nРисунок 55 Поиск по Базе знаний\\n\\nВ результатах поиска присутствует раздел «База знаний» (см. Рисунок 56).\\n\\n\\n\\nРисунок 56 Результаты поиска по Базе знаний\\n\\n\\n\\nДля поиска по конкретным параметрам в Базе знаний воспользуйтесь расширенным поиском (см. Рисунок 57).\\n\\n\\n\\nРисунок 57 Кнопка расширенного поиска\\n\\nВ открывшемся окне введите параметры для поиска (см. Рисунок 58).\\n\\n\\n\\nРисунок 58 Интерфейс расширенного поиска\\n\\nСистема выдаст результаты расширенного поиска (см. Рисунок 59), для которых можно выполнить отсортировку (см. раздел 7.4 Работа со списком заявок) либо уточнить параметры (см. Рисунок 511) \\n\\n\\n\\n\\n\\nРисунок 59 Результаты расширенного поиска\\n\\n\\n\\nРисунок 510 Сортировка\\n\\n\\n\\nРисунок 511 Уточнение параметров расширенного поиска'),\n",
       " Document(page_content='Рисунок 59 Результаты расширенного поиска\\n\\n\\n\\nРисунок 510 Сортировка\\n\\n\\n\\nРисунок 511 Уточнение параметров расширенного поиска\\n\\n\\n\\nБазовые действия для работы в Системе\\n\\nПросмотр карточки заявки \\n\\nДля того чтобы просмотреть карточку заявки на вкладке «Мои заявки» в списке заявок щелкните на название заявки. Откроется карточка заявки (см. Рисунок 61).\\n\\n\\n\\nРисунок 61 Отображение карточки заявки\\n\\nВ блоке «Краткая информация» отображаются все основные параметры заявки, в том числе текущий статус заявки и плановая дата решения.\\n\\nВ блоке «Подробное описание» отображаются описания сути проблемы, причин возобновления и способов решения, если данные параметры были добавлены в ходе решения заявки.\\n\\nВ блоке «Рекомендуемые статьи базы знаний» предложены статьи, которые рекомендуется просмотреть (см.6.5 Просмотр статей Базы знаний на карточке заявки).'),\n",
       " Document(page_content='В блоке «Комментарии» отображаются все комментарии, добавленные в ходе обслуживания заявки. Наличие комментариев облегчает взаимодействие между пользователем и сотрудниками СТП в ходе обслуживания. Пользователи ЛК могут просматривать и добавлять комментарии. \\n\\nВ блоке «Файлы» отображаются все файлы, добавленные в ходе обслуживания заявки. Пользователи ЛК могут просматривать все файлы, связанные с заявкой, добавлять новые файлы.\\n\\nДобавление комментария в карточке заявки \\n\\nДля того чтобы добавить комментарий к заявке, выполните следующие действия:\\n\\nщелкните на название заявки. На экране появится карточка заявки;\\n\\nв блоке «Комментарии» щелкните на кнопке «Добавить комментарий». На экране появится окно добавления комментария (см. Рисунок 62);\\n\\n\\n\\nРисунок 62 Отображение окна «Добавление комментария»\\n\\nв появившемся окне введите комментарий в поле «Текст» и нажмите кнопку «Сохранить». На карточке заявки в блоке «Комментарии» отобразится введенный комментарий.\\n\\nДобавление файла к заявке'),\n",
       " Document(page_content='Добавление файла к заявке \\n\\nДля того чтобы добавить файл к заявке, выполните следующие действия:\\n\\nщелкните на название заявки. На экране появится карточка заявки;\\n\\nв блоке «Файлы» щелкните на кнопке «Добавить файл». На экране появится окно добавления файла (см. Рисунок 63);\\n\\nв появившемся окне в поле «Содержимое файла» укажите путь к добавляемому файлу, с помощью кнопки «Обзор». В текстовом поле «Описание» введите краткое описание файла (при необходимости);\\n\\nнажмите кнопку «Сохранить». На карточке заявки в блоке «Файлы» отобразится ссылка на указанный файл.\\n\\n\\n\\n\\n\\nРисунок 63 Отображение окна «Добавление файла»\\n\\nЗакрытие и возобновление заявки через ЛК\\n\\nПользователь ЛК может закрыть или возобновить работу по заявке, используя ЛК. В статусе заявки «Решен» в карточке заявки появляются 2 дополнительные кнопки «Возобновить» и «Закрыть» (см. Рисунок 64).\\n\\n\\n\\nРисунок 64 Отображение кнопок «Возобновить» и «Закрыть»\\n\\nДля того чтобы закрыть заявку выполните следующие действия:'),\n",
       " Document(page_content='Рисунок 64 Отображение кнопок «Возобновить» и «Закрыть»\\n\\nДля того чтобы закрыть заявку выполните следующие действия:\\n\\nщелкните на название заявки, статус которой «Решен». На экране появится карточка заявки;\\n\\nна открывшейся карточке заявки нажмите кнопку «Закрыть». На экране появится окно «Изменение статуса» (см. Рисунок 65);\\n\\n\\n\\nРисунок 65 Отображение окна «Изменение статуса на Закрыт»\\n\\nв открывшемся окне заполните поля «Оценка пользователя» и нажмите кнопку «Сохранить». На экране появится карточка заявки, статус заявки изменится на «Закрыт». Кроме этого, оценивать качество выполненного обращения через автоматически сгенерированное письмо, которое отправляется после решения запроса.\\n\\nДля того чтобы возобновить заявку выполните следующие действия:\\n\\nщелкните на название заявки. На экране появится карточка заявки;\\n\\nна открывшейся карточке заявки нажмите кнопку «Возобновить». На экране появится окно «Изменение статуса» (см. Рисунок 66);\\n\\n\\n\\nРисунок 66 Отображение окна «Изменение статуса на Возобновлен»'),\n",
       " Document(page_content='Рисунок 66 Отображение окна «Изменение статуса на Возобновлен»\\n\\nв открывшемся окне заполните обязательное поле «Описание причины возобновления» и нажмите кнопку «Сохранить». На экране появится карточка заявки, статус заявки изменится на «Возобновлен».\\n\\nУточнение информации по запросу на изменение\\n\\nДля уточнения информации по запросу, в закладке «Мои запросы» зайдите в нужный запрос в статусе «Уточнение информации».  Откроется окно форма «Запроса на изменение». Для редактирования формы нажмите кнопку «Редактировать» в верхней части окна (см. Рисунок 67).\\n\\n\\n\\nРисунок 67 - Редактирование карточки запроса на изменение.\\n\\nОткроется форма редактирования. Внесете правки в нужные пункты, и нажмите кнопку «Сохранить».\\n\\nДобавление файла\\n\\nДля добавления файла в качестве вложения, в информационном блоке «Комментарии и файлы» кликните по закладке «Файлы» (см. Рисунок 68).\\n\\n\\n\\nРисунок 68 – Закладка «Файлы»\\n\\nДля добавления файла, нажмите кнопку «Добавить файл». \\n\\nЗавершение обработки запроса на изменение'),\n",
       " Document(page_content='Для добавления файла, нажмите кнопку «Добавить файл». \\n\\nЗавершение обработки запроса на изменение\\n\\nВ верхней части карточки запроса на изменение, нажмите кнопку «Информация уточнена» (см. Рисунок 69).\\n\\n\\n\\nРисунок 69 – Карточка запроса на изменение, уточнение информации\\n\\nОткроется окно «Изменение статуса». В окне отредактируйте необходимые поля. Поля, отмеченные символом (*) красная звездочка, обязательны для заполнения.\\n\\nЗначение полей указывается автором запроса в момент регистрации запроса на изменение.\\n\\nВ статусе «Уточнение информации», указанные значения в полях, можно отредактировать.\\n\\nВ поле комментарий, внесите уточняющую информацию по запросу (см.  Рисунок 610).\\n\\n\\n\\nРисунок 610 – Внесение уточняющей информации\\n\\nПосле внесения информации, нажмите кнопку «Применить». Запрос будет направлен на исполнение.\\n\\nДобавленный пользователем комментарий, будет храниться на закладке комментарии.\\n\\nЗапрос вернется в состояние «Назначение и анализ».\\n\\nПросмотр статей Базы знаний на карточке заявки'),\n",
       " Document(page_content='Запрос вернется в состояние «Назначение и анализ».\\n\\nПросмотр статей Базы знаний на карточке заявки\\n\\nПользователь ЛК может просмотреть рекомендуемые статьи Базы знаний на карточке заявки. \\n\\nДля того чтобы просмотреть рекомендуемые статьи:\\n\\nщелкните на название статьи на карточке заявки (см. Рисунок 611);\\n\\n\\n\\nРисунок 611 Просмотр списка рекомендуемых статей Базы знаний на карточке заявки\\n\\nВспомогательные операции для работы в Системе\\n\\nДанная глава содержит описание вспомогательных операций, доступных пользователям при работе с Naumen Service Desk. Эти операции помогают сделать эксплуатацию системы более удобной для пользователей. \\n\\nСмена темы интерфейса\\n\\nПользователю ЛК предоставляется возможность изменять тему интерфейса Системы. Для того чтобы изменить текущую тему интерфейса нажмите на ссылку с ФИО в правом верхнем углу Системы:  . Откроется форма «Персональные настройки» (см. Рисунок 71).\\n\\n\\n\\nРисунок 71 Отображение формы «Персональные настройки»'),\n",
       " Document(page_content='Рисунок 71 Отображение формы «Персональные настройки»\\n\\nНа форме «Персональные настройки» можно изменить часовой пояс, цвет темы, язык интерфейса.\\n\\nОперации со ссылками в «Избранном»\\n\\nВ верхнюю панель можно добавлять избранные ссылки. (см. Рисунок 72). Используя ссылки, пользователь может быстро вызывать на экран нужные учетные карточки или документы.\\n\\n\\n\\nРисунок 72 Отображение панели «Избранное»\\n\\nДобавление ссылки на карточку объекта\\n\\nДля добавления ссылки в «Избранное» зайдите на карточку объекта, на которую будет указывать ссылка, перейдите на нужную вкладку карточки и щелкните на пиктограмме   «Добавить в избранное». Пиктограмма располагается в правом верхнем углу окна системы.\\n\\nВ появившемся окне (см. Рисунок 73) укажите название ссылки в поле «Название» (по умолчанию в этом поле содержится название карточки, на которую создается ссылка) и нажмите кнопку «Сохранить». \\n\\n\\n\\nРисунок 73 Отображение окна «Добавление страницы в избранное»'),\n",
       " Document(page_content='Рисунок 73 Отображение окна «Добавление страницы в избранное»\\n\\nПосле этих действий ссылка будет добавлена в «Избранное» в верхней панели.\\n\\nУдаление ссылки\\n\\nДля того чтобы удалить ссылку из «Избранное», наведите курсор мыши на ссылку и нажмите на пиктограмму справа от названия ссылки (см. Рисунок 74). \\n\\n\\n\\nРисунок 74 Отображение удаления ссылки в «Избранное»\\n\\nВ появившемся окне «Подтверждение удаления» нажмите кнопку «Да».  После этих действий ссылка будет удалена. \\n\\nСделать домашней страницей\\n\\nДля того, чтобы карточка объекта отображалась как домашняя страница при входе в систему выполните следующие действия:\\n\\nНажмите на пиктограмму «Сделать домашней страницей» в правом верхнем углу страницы\\n\\nНажмите кнопку «Да» для подтверждения действия. \\n\\n\\n\\nРисунок 75 Сделать домашней страницей\\n\\nРабота со списком заявок\\n\\nПри работе со списками заявок (см. Рисунок 76) Пользователь может выполнять следующие операции:\\n\\nнастраивать удобное для работы представление списка;\\n\\nосуществлять сортировку списка;'),\n",
       " Document(page_content='настраивать удобное для работы представление списка;\\n\\nосуществлять сортировку списка;\\n\\nосуществлять фильтрацию списка;\\n\\nэкспортировать список в MS Excel;\\n\\nобновлять список вручную.\\n\\n\\n\\nРисунок 76 Отображение основных кнопок при работе со списком заявок\\n\\nНастройка отображения списка\\n\\nДля того чтобы управлять перечнем отображаемых в списке колонок, выполните следующие действия:\\n\\nНажмите на пиктограмму «Настройка полей»  в правой части списка заявок\\n\\n\\n\\nРисунок 77 Настройка отображения списка\\n\\nС помощью стрелок, отмеченных зеленым цветом, устанавливается очередность отображения столбцов.\\n\\nС помощью кнопок х, отмеченных синим цветом, производится удаление отображения столбцов.\\n\\nС помощью поля «Атрибут» и кнопки +, отмеченных желтым цветом производится добавление отображения удаленных столбцов.\\n\\nСортировка списка\\n\\nДля того чтобы отсортировать список заявок по определенному параметру нажмите на кнопку «Сортировка» (см. Рисунок 78), появится дополнительная панель со ссылками «изменить» и «сбросить».'),\n",
       " Document(page_content='Рисунок 78 Кнопка сортировка\\n\\nДля того чтобы изменить параметры сортировки нажмите ссылку «изменить», откроется форма «Настройки полей сортировки» (см. Рисунок 79).\\n\\n\\n\\nРисунок 79 Настройка полей сортировки\\n\\nС помощью кнопки  добавьте новые атрибуты для сортировки, с помощью кнопок  настройте сортировку по убыванию/возрастанию, с помощью кнопки  - удалите ненужный атрибут для сортировки. После завершения настройки полей для сортировки нажмите копку «Сохранить».\\n\\nФильтрация списка\\n\\nДля того чтобы отфильтровать список заявок по определенному параметру нажмите на кнопку «Фильтрация», появится дополнительная панель ( см. Рисунок 710).\\n\\n\\n\\nРисунок 710 Панель фильтрации\\n\\nДля того чтобы изменить параметры фильтрации нажмите ссылку «изменить», появится дополнительная панель фильтрации.\\n\\nС помощью кнопок  и установите правила для фильтрации. После завершения настройки фильтрации нажмите копку «Применить».\\n\\nЭкспорт списка в MS Excel'),\n",
       " Document(page_content='Экспорт списка в MS Excel\\n\\nДля того чтобы экспортировать список заявок в MS Excel, нажмите кнопку «Экспорт списка». Если в списке менее 1000 строк, то откроется окно «Открытие «Название файла.xls» (см. Рисунок 711). Выберите «сохранить» или «открыть файл» и нажмите кнопку «Ок».\\n\\n\\n\\nРисунок 711 Экспорт списка заявок\\n\\nЕсли в списке более 1000 строк, то система предложит отправить выгрузку на email (см.Рисунок 712). \\n\\n\\n\\nРисунок 712 Экспорт на email\\n\\nОбновление списка\\n\\nДля того чтобы список заявок обновлялся автоматически, нажмите кнопку «Обновлять список». После однократного нажатия на кнопку список заявок будет обновляться автоматически. \\n\\n\\n\\nРисунок 713 Кнопка \"Обновить список\"\\n\\nСтраница 4')]"
      ]
     },
     "execution_count": 8,
     "metadata": {},
     "output_type": "execute_result"
    }
   ],
   "source": [
    "data"
   ]
  },
  {
   "cell_type": "code",
   "execution_count": null,
   "metadata": {},
   "outputs": [],
   "source": []
  },
  {
   "cell_type": "markdown",
   "metadata": {},
   "source": [
    "# Создадим векторную базу"
   ]
  },
  {
   "cell_type": "code",
   "execution_count": 9,
   "metadata": {},
   "outputs": [],
   "source": [
    "from yandex_chain import YandexEmbeddings\n",
    "from langchain.vectorstores import FAISS"
   ]
  },
  {
   "cell_type": "code",
   "execution_count": 10,
   "metadata": {},
   "outputs": [],
   "source": [
    "embeddings_model = YandexEmbeddings(config=\"config.json\")"
   ]
  },
  {
   "cell_type": "code",
   "execution_count": 11,
   "metadata": {},
   "outputs": [],
   "source": [
    "vectorstore = FAISS.from_texts(\n",
    "    [\n",
    "        i.page_content\n",
    "        for i in data\n",
    "    ], \n",
    "    embedding=embeddings_model\n",
    "    )\n",
    "retriever = vectorstore.as_retriever()"
   ]
  },
  {
   "cell_type": "markdown",
   "metadata": {},
   "source": [
    "Модель для ответов:"
   ]
  },
  {
   "cell_type": "code",
   "execution_count": 12,
   "metadata": {},
   "outputs": [],
   "source": [
    "from yandex_chain import YandexLLM"
   ]
  },
  {
   "cell_type": "code",
   "execution_count": 13,
   "metadata": {},
   "outputs": [],
   "source": [
    "llm = YandexLLM(config=\"config.json\")"
   ]
  },
  {
   "cell_type": "code",
   "execution_count": 14,
   "metadata": {},
   "outputs": [],
   "source": [
    "from langchain_core.prompts import ChatPromptTemplate"
   ]
  },
  {
   "cell_type": "code",
   "execution_count": 15,
   "metadata": {},
   "outputs": [],
   "source": [
    "def query(text):\n",
    "    vect = retriever.invoke(text)\n",
    "    temple = ChatPromptTemplate([\n",
    "        (\"system\", 'Дай ответ на вопрос исходи из {vect}'),\n",
    "        (\"user\", '{text}')\n",
    "    ])\n",
    "    out = llm.invoke(\n",
    "        temple.invoke({\n",
    "            'vect':vect,\n",
    "            'text':text\n",
    "        })\n",
    "    )\n",
    "    return out, vect"
   ]
  },
  {
   "cell_type": "code",
   "execution_count": 16,
   "metadata": {},
   "outputs": [
    {
     "name": "stdout",
     "output_type": "stream",
     "text": [
      "Чтобы отсортировать список, необходимо выполнить следующие действия:\n",
      "\n",
      "1. Нажмите на кнопку «Сортировка» (см. рисунок 78).\n",
      "2. Откроется дополнительная панель со ссылками «изменить» и «сбросить».\n",
      "3. Нажмите «изменить». Откроется форма «Настройки полей сортировки».\n",
      "4. С помощью кнопок  добавьте новые атрибуты для сортировки, с помощью кнопок  настройте сортировку по убыванию/возрастанию, с помощью кнопки  удалите ненужный атрибут для сортировки.\n",
      "5. После завершения настройки полей для сортировки нажмите кнопку «Сохранить».\n",
      "\n",
      "Также вы можете отсортировать список по определённому параметру, нажав на соответствующую кнопку сортировки в списке заявок.\n",
      "[Document(page_content='Рисунок 78 Кнопка сортировка\\n\\nДля того чтобы изменить параметры сортировки нажмите ссылку «изменить», откроется форма «Настройки полей сортировки» (см. Рисунок 79).\\n\\n\\n\\nРисунок 79 Настройка полей сортировки\\n\\nС помощью кнопки  добавьте новые атрибуты для сортировки, с помощью кнопок  настройте сортировку по убыванию/возрастанию, с помощью кнопки  - удалите ненужный атрибут для сортировки. После завершения настройки полей для сортировки нажмите копку «Сохранить».\\n\\nФильтрация списка\\n\\nДля того чтобы отфильтровать список заявок по определенному параметру нажмите на кнопку «Фильтрация», появится дополнительная панель ( см. Рисунок 710).\\n\\n\\n\\nРисунок 710 Панель фильтрации\\n\\nДля того чтобы изменить параметры фильтрации нажмите ссылку «изменить», появится дополнительная панель фильтрации.\\n\\nС помощью кнопок  и установите правила для фильтрации. После завершения настройки фильтрации нажмите копку «Применить».\\n\\nЭкспорт списка в MS Excel'), Document(page_content='настраивать удобное для работы представление списка;\\n\\nосуществлять сортировку списка;\\n\\nосуществлять фильтрацию списка;\\n\\nэкспортировать список в MS Excel;\\n\\nобновлять список вручную.\\n\\n\\n\\nРисунок 76 Отображение основных кнопок при работе со списком заявок\\n\\nНастройка отображения списка\\n\\nДля того чтобы управлять перечнем отображаемых в списке колонок, выполните следующие действия:\\n\\nНажмите на пиктограмму «Настройка полей»  в правой части списка заявок\\n\\n\\n\\nРисунок 77 Настройка отображения списка\\n\\nС помощью стрелок, отмеченных зеленым цветом, устанавливается очередность отображения столбцов.\\n\\nС помощью кнопок х, отмеченных синим цветом, производится удаление отображения столбцов.\\n\\nС помощью поля «Атрибут» и кнопки +, отмеченных желтым цветом производится добавление отображения удаленных столбцов.\\n\\nСортировка списка\\n\\nДля того чтобы отсортировать список заявок по определенному параметру нажмите на кнопку «Сортировка» (см. Рисунок 78), появится дополнительная панель со ссылками «изменить» и «сбросить».'), Document(page_content='Фильтрация списка заявок позволяет пользователю оставить на экране только заявки с интересующими его характеристиками.  \\n\\nДля того чтобы просмотреть в списке заявки с интересующими характеристиками, на вкладке «Мои заявки» нажмите кнопку Фильтрация (см. Рисунок 13), и выберите требуемые параметры фильтра, например, Дата регистрации – с – по (см. Рисунок 14). \\n\\nВыбранные параметры фильтра можно сохранить в качестве представления, для этого нажмите кнопку «Сохранить представление» и введите название Нового представления (см. Рисунок 15), представление может быть выбрано как представление для отображения по умолчанию. \\n\\n\\n\\n\\n\\nРисунок 13 Отображение кнопки фильтрации на вкладке «Мои заявки»\\n\\n\\n\\n\\n\\nРисунок 14 Выбор параметров фильтра\\n\\n\\n\\nРисунок 15 Сохранение выбранного фильтра в виде представления\\n\\nОтображение вкладки «Карточка» \\n\\nВ ходе работы с ЛК пользователю предоставляется возможность просматривать общую информацию о себе на вкладке «Карточка» (см. Рисунок 16).\\n\\n\\n\\nРисунок 16 Отображение вкладки «Карточка»'), Document(page_content='Экспорт списка в MS Excel\\n\\nДля того чтобы экспортировать список заявок в MS Excel, нажмите кнопку «Экспорт списка». Если в списке менее 1000 строк, то откроется окно «Открытие «Название файла.xls» (см. Рисунок 711). Выберите «сохранить» или «открыть файл» и нажмите кнопку «Ок».\\n\\n\\n\\nРисунок 711 Экспорт списка заявок\\n\\nЕсли в списке более 1000 строк, то система предложит отправить выгрузку на email (см.Рисунок 712). \\n\\n\\n\\nРисунок 712 Экспорт на email\\n\\nОбновление списка\\n\\nДля того чтобы список заявок обновлялся автоматически, нажмите кнопку «Обновлять список». После однократного нажатия на кнопку список заявок будет обновляться автоматически. \\n\\n\\n\\nРисунок 713 Кнопка \"Обновить список\"\\n\\nСтраница 4')]\n"
     ]
    }
   ],
   "source": [
    "out = query(input())\n",
    "print(out[0])\n",
    "print(out[1])"
   ]
  },
  {
   "cell_type": "code",
   "execution_count": null,
   "metadata": {},
   "outputs": [],
   "source": []
  }
 ],
 "metadata": {
  "kernelspec": {
   "display_name": "langchane",
   "language": "python",
   "name": "python3"
  },
  "language_info": {
   "codemirror_mode": {
    "name": "ipython",
    "version": 3
   },
   "file_extension": ".py",
   "mimetype": "text/x-python",
   "name": "python",
   "nbconvert_exporter": "python",
   "pygments_lexer": "ipython3",
   "version": "3.11.9"
  }
 },
 "nbformat": 4,
 "nbformat_minor": 2
}
